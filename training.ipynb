{
 "cells": [
  {
   "cell_type": "markdown",
   "metadata": {},
   "source": [
    "# Hebbian FFA\n",
    "\n",
    "Code from Paper \"Emerging NeoHebbian Dynamics in Forward-Forward Learning: Implications for Neuromorphic Computing\"\n",
    "Authors: Erik B. Terres-Escudero, Javier Del Ser, Pablo García-Bringas\n",
    "\n",
    "This notebook analyzed the relationship between FFA and Hebbian learning. To do so, we rely on the theoretical adaptation proposed in our paper to verify that the models achieve competitive accuracies."
   ]
  },
  {
   "cell_type": "code",
   "execution_count": null,
   "metadata": {},
   "outputs": [],
   "source": [
    "import torch\n",
    "import torchvision\n",
    "import torch.nn.functional as F \n",
    "\n",
    "import matplotlib.pyplot as plt\n",
    "\n",
    "from tqdm import tqdm\n",
    "\n",
    "import numpy as np\n",
    "import matplotlib.pyplot as plt\n",
    "\n",
    "import json\n",
    "import numpy as np"
   ]
  },
  {
   "cell_type": "code",
   "execution_count": null,
   "metadata": {},
   "outputs": [],
   "source": [
    "# We wont require from gradients for most experiments\n",
    "torch.set_grad_enabled(False)"
   ]
  },
  {
   "cell_type": "markdown",
   "metadata": {},
   "source": [
    "### Hyperparameters"
   ]
  },
  {
   "cell_type": "code",
   "execution_count": null,
   "metadata": {},
   "outputs": [],
   "source": [
    "batch_size = 1\n",
    "num_steps = 24"
   ]
  },
  {
   "cell_type": "markdown",
   "metadata": {},
   "source": [
    "### Datasets"
   ]
  },
  {
   "cell_type": "code",
   "execution_count": 1,
   "metadata": {},
   "outputs": [],
   "source": [
    "train_MNIST = torchvision.datasets.MNIST(\n",
    "    './../data/mnist', train=True, download=False, transform=torchvision.transforms.ToTensor()\n",
    ")\n",
    "\n",
    "test_MNIST = torchvision.datasets.MNIST(\n",
    "    './../data/mnist', train=False, download=False, transform=torchvision.transforms.ToTensor()\n",
    ")\n",
    "\n",
    "train_loader = torch.utils.data.DataLoader(train_MNIST, batch_size = batch_size, shuffle = True)\n",
    "test_loader = torch.utils.data.DataLoader(test_MNIST, batch_size = batch_size, shuffle = False)"
   ]
  },
  {
   "cell_type": "markdown",
   "metadata": {},
   "source": [
    "### Output Traces"
   ]
  },
  {
   "cell_type": "code",
   "execution_count": 2,
   "metadata": {},
   "outputs": [],
   "source": [
    "class ReLU_Trace:\n",
    "    def __init__(self, batch_size, num_neurons, factor = 10) -> None:\n",
    "        self.out_trace = torch.zeros(batch_size, num_neurons)\n",
    "        \n",
    "        self.factor = factor\n",
    "    \n",
    "    def update_trace(self, spike):\n",
    "        self.out_trace = self.out_trace + spike / self.factor\n",
    "    \n",
    "    def get_derivative(self):\n",
    "        return (self.x > 0).float()\n",
    "    \n",
    "    def reset_trace(self):\n",
    "        self.out_trace = torch.zeros_like(self.out_trace)\n",
    "    \n",
    "\n",
    "class LI_Trace:\n",
    "    def __init__(self, batch_size, num_neurons, trace_tau = 0.85) -> None:\n",
    "        self.out_trace = torch.zeros(batch_size, num_neurons)\n",
    "        \n",
    "        self.tau = trace_tau\n",
    "    \n",
    "    def update_trace(self, spike):\n",
    "        self.out_trace = self.out_trace * self.tau + (1 - self.tau) * spike\n",
    "        \n",
    "    def get_derivative(self):\n",
    "        return (self.x > 0).float()\n",
    "\n",
    "    def reset_trace(self):\n",
    "        self.out_trace = torch.zeros_like(self.out_trace)\n",
    "\n",
    "\n",
    "class Hard_LI_Trace:\n",
    "    def __init__(self, batch_size, num_neurons, trace_tau = 0.85) -> None:\n",
    "        self.out_trace = torch.zeros(batch_size, num_neurons)\n",
    "        \n",
    "        self.tau = trace_tau\n",
    "\n",
    "    def update_trace(self, spike):\n",
    "        self.out_trace *= self.tau \n",
    "        self.out_trace[spike] = 1\n",
    "\n",
    "    def get_derivative(self):\n",
    "        return (self.x > 0).float()\n",
    "\n",
    "    def reset_trace(self):\n",
    "        self.out_trace = torch.zeros_like(self.out_trace)"
   ]
  },
  {
   "cell_type": "code",
   "execution_count": 3,
   "metadata": {},
   "outputs": [],
   "source": [
    "class Standard_Probability:\n",
    "    def __init__(self, num_inputs, num_neurons, theta=1, scale_factor=6, use_et = True, nu = 0.1, tau = 0.01) -> None:       \n",
    "        self.scale_factor = scale_factor\n",
    "        self.theta = theta\n",
    "        \n",
    "        self.use_et = use_et\n",
    "        \n",
    "        self.nu = nu\n",
    "        self.tau = tau\n",
    "        \n",
    "        self.elasticity_trace = torch.zeros(num_inputs, num_neurons)\n",
    "        \n",
    "        self.trace_history = []\n",
    "        self.neuromodulation_history = []\n",
    "    \n",
    "    def compute_neuromodulation(self, out_trace):\n",
    "        trace_norm = torch.norm(out_trace, dim = 1).pow(2)\n",
    "        self.trace_history.append(trace_norm.mean())\n",
    "        \n",
    "        neuromodulation = torch.sigmoid(self.scale_factor * ( trace_norm - self.theta ) )\n",
    "        self.neuromodulation_history.append(neuromodulation.mean())\n",
    "        \n",
    "        return neuromodulation\n",
    "    \n",
    "    def compute_probs(self, out_trace):\n",
    "        trace_norm = torch.norm(out_trace, dim = 1).pow(2)\n",
    "        \n",
    "        return torch.sigmoid(self.scale_factor * ( trace_norm - self.theta ) )\n",
    "    \n",
    "    \n",
    "    def hebbian_update(self, weights, x, out_trace, real_positivity):\n",
    "        \n",
    "        delta_weights = x.squeeze(2).unsqueeze(2) @ out_trace.unsqueeze(1)\n",
    "        \n",
    "        neuron_positivity = self.compute_neuromodulation(out_trace)\n",
    "        \n",
    "        \n",
    "        if self.use_et:\n",
    "            self.elasticity_trace *= (1 - self.tau)\n",
    "            self.elasticity_trace += self.tau * ((1-real_positivity-neuron_positivity).unsqueeze(1).unsqueeze(2) * delta_weights).mean(dim = 0)\n",
    "            weights += self.nu * self.elasticity_trace\n",
    "        else:\n",
    "            weights += self.nu * ((1-real_positivity-neuron_positivity).unsqueeze(1).unsqueeze(2) * delta_weights).mean(dim = 0)\n",
    "\n",
    "        return weights\n",
    "\n",
    "\n",
    "class Symmetric_Probability:\n",
    "    def __init__(self, num_inputs, num_neurons, use_et = True, nu = 0.1, tau = 0.01) -> None:\n",
    "        self.use_et = use_et\n",
    "        \n",
    "        self.num_neurons = num_neurons\n",
    "        self.num_inputs = num_inputs\n",
    "        \n",
    "        self.elasticity_trace = torch.zeros(num_inputs, num_neurons)\n",
    "        \n",
    "        self.nu = nu\n",
    "        self.tau = tau\n",
    "    \n",
    "    def compute_neuromodulation(self, out_trace, positivity):\n",
    "        trace_norm_positive = torch.norm(out_trace[:,:self.num_neurons//2], dim = 1).pow(2)\n",
    "        trace_norm_negative = torch.norm(out_trace[:,self.num_neurons//2:], dim = 1).pow(2)\n",
    "        \n",
    "        trace_ratio = (trace_norm_negative+0.01) / (trace_norm_positive + 0.01)\n",
    "        trace_sum = 1 / (trace_norm_positive + trace_norm_negative + 0.01)\n",
    "        \n",
    "        trace_ratio = trace_ratio ** (1-2*positivity)\n",
    "\n",
    "        return (trace_ratio * trace_sum, -1 * trace_sum)\n",
    "    \n",
    "    def compute_probs(self, out_trace):\n",
    "        trace_norm_positive = torch.norm(out_trace[:,:self.num_neurons//2], dim = 1).pow(2)\n",
    "        trace_norm_negative = torch.norm(out_trace[:,self.num_neurons//2:], dim = 1).pow(2)\n",
    "        \n",
    "        \n",
    "        return (trace_norm_positive+0.01) / (trace_norm_positive + trace_norm_negative + 0.02)\n",
    "    \n",
    "\n",
    "    def hebbian_update(self, weights, x, out_trace, real_positivity):\n",
    "        \n",
    "        delta_weights = x.squeeze(2).unsqueeze(2) @ out_trace.unsqueeze(1)\n",
    "        \n",
    "        \n",
    "        pos_part, neg_part = self.compute_neuromodulation(out_trace, real_positivity)\n",
    "        \n",
    "        \n",
    "        rewards = (1 - real_positivity) * pos_part + real_positivity * neg_part # [R_i, -1, R_i]\n",
    "        delta_weights[:,:,:self.num_neurons//2] *= rewards.unsqueeze(1).unsqueeze(2)\n",
    "        \n",
    "        rewards = (1 - real_positivity) * neg_part + real_positivity * pos_part # [R_i, -1, R_i]\n",
    "        delta_weights[:,:,self.num_neurons//2:] *= rewards.unsqueeze(1).unsqueeze(2)\n",
    "        \n",
    "        if self.use_et:\n",
    "            self.elasticity_trace *= (1 - self.tau)\n",
    "            self.elasticity_trace += self.tau * (delta_weights).mean(dim = 0)\n",
    "                        \n",
    "            weights += self.nu * self.elasticity_trace.detach().clone()\n",
    "            \n",
    "        else:\n",
    "            weights += self.nu * (delta_weights).mean(dim = 0)\n",
    "            \n",
    "        return weights"
   ]
  },
  {
   "cell_type": "markdown",
   "metadata": {},
   "source": [
    "## Spiking Layer"
   ]
  },
  {
   "cell_type": "code",
   "execution_count": 4,
   "metadata": {},
   "outputs": [],
   "source": [
    "class LIF_Layer:\n",
    "    def __init__(self, batch_size, num_inputs, num_neurons, threshold = 2, tau = 0.85, topk = 10):\n",
    "        # Dimension Values\n",
    "        self.num_inputs = num_inputs\n",
    "        self.num_neurons = num_neurons\n",
    "        \n",
    "        # Hyperparameters\n",
    "        self.batch_size = batch_size\n",
    "        self.topk = topk\n",
    "        self.threshold_value = threshold\n",
    "\n",
    "        self.tau = tau\n",
    "\n",
    "        # State\n",
    "        self.weights = torch.randn(num_inputs, num_neurons)\n",
    "        self.membrane_potential = torch.zeros(batch_size, num_neurons)\n",
    "        self.threshold = torch.ones(batch_size, num_neurons) * threshold\n",
    "        self.spike = torch.zeros(batch_size, num_neurons)\n",
    "        \n",
    "        \n",
    "        ## Extras\n",
    "        self.out_trace = None\n",
    "        self.probabilities = None\n",
    "        \n",
    "    def set_out_trace(self, out_trace):\n",
    "        self.out_trace = out_trace\n",
    "\n",
    "    def set_probabilities(self, probabilities):\n",
    "        self.probabilities = probabilities\n",
    "\n",
    "    def set_update(self, update):\n",
    "        self.update = update\n",
    "        \n",
    "    def forward(self, x):\n",
    "        self.membrane_potential = self.membrane_potential * self.tau + x.squeeze(2) @ self.weights\n",
    "        \n",
    "        differential_membrane = self.membrane_potential - self.threshold + 0.01 *  torch.randn(self.num_neurons) \n",
    "        \n",
    "        topk, indices = torch.topk(differential_membrane, self.topk, dim = 1)\n",
    "        possible_membrane_potential = self.membrane_potential * (differential_membrane > topk[...,-1,None] - 0.001).float()\n",
    "    \n",
    "        self.spike = possible_membrane_potential > 0.001\n",
    "        self.membrane_potential[self.spike] = 0\n",
    "                \n",
    "        self.out_trace.update_trace(self.spike)\n",
    "        \n",
    "        return self.spike.float()\n",
    "    \n",
    "    def __call__(self, x):\n",
    "        return self.forward(x)\n",
    "    \n",
    "    def reset_trace(self):\n",
    "        self.out_trace.reset_trace()\n",
    "    \n",
    "    def compute_neuromodulation(self):\n",
    "        return self.probabilities.compute_neuromodulation(self.out_trace.out_trace)\n",
    "    \n",
    "        \n",
    "    def compute_probs(self):\n",
    "        return self.probabilities.compute_probs(self.out_trace.out_trace)\n",
    "    \n",
    "    def hebbian_update(self, x, real_positivity, out = None):\n",
    "        self.weights = self.probabilities.hebbian_update(self.weights, x, self.out_trace.out_trace, real_positivity)"
   ]
  },
  {
   "cell_type": "markdown",
   "metadata": {},
   "source": [
    "## Spiking Training Process"
   ]
  },
  {
   "cell_type": "code",
   "execution_count": 5,
   "metadata": {},
   "outputs": [],
   "source": [
    "# Hyperaparameters\n",
    "num_neurons = 200\n",
    "INPUT_STRENGTH = 0.25\n",
    "\n",
    "out_trace = ReLU_Trace(batch_size, num_neurons, factor=200)\n",
    "#probability = Symmetric_Probability(28*28 + 100, num_neurons, nu=0.1, tau=0.01)\n",
    "probability = Standard_Probability(28*28 + 100, num_neurons, nu=10, tau=0.01, theta = 0.5)\n",
    "\n",
    "layer = LIF_Layer(batch_size, 28*28 +100, num_neurons, topk=200, tau=0.85)\n",
    "layer.set_out_trace(out_trace)\n",
    "layer.set_probabilities(probability)\n",
    "\n",
    "labels = torch.bernoulli(torch.ones((10, 100)) * 0.3).long()"
   ]
  },
  {
   "cell_type": "code",
   "execution_count": 27,
   "metadata": {},
   "outputs": [],
   "source": [
    "def train_network(layer, labels, use_eval = False,  max_i = 10000000):\n",
    "    is_eval = False\n",
    "\n",
    "    # Metrics\n",
    "    historic_positivity = []\n",
    "    historic_probability = []\n",
    "\n",
    "    cor, tot, cor_t, tot_t = 0, 0, 0, 0\n",
    "    c_m = [[0,0], [0,0]]\n",
    "        \n",
    "    # NOTE: This function does not properly behave as an evaluation function during trainnig. Only use to measure approximate accuracies.\n",
    "    def eval_step(x, y):\n",
    "        global cor, tot, cor_t, tot_t\n",
    "                \n",
    "        goodnesses = torch.zeros((x.shape[0], 10))\n",
    "        for label in range(10):\n",
    "            layer.reset_trace()\n",
    "            x_pos = torch.cat((x.reshape(x.shape[0],784,1), labels[label * torch.ones_like(y)].long().reshape(x.shape[0],100,1)), dim = 1)\n",
    "            \n",
    "            pre_x = INPUT_STRENGTH * x_pos.reshape((x.shape[0], 28 * 28 + 100))\n",
    "            pre_x = pre_x.unsqueeze(2).repeat(1,1,num_steps)\n",
    "            enc_x = torch.bernoulli(pre_x)\n",
    "            \n",
    "            for t in range(num_steps-1):\n",
    "                enc_x_t = enc_x[:, :, t].reshape((x.shape[0], 28*28+100, 1))\n",
    "\n",
    "                out = layer(enc_x_t)\n",
    "\n",
    "            inference_probs = layer.compute_probs()\n",
    "            goodnesses[:, label] = inference_probs\n",
    "            \n",
    "            layer.reset_trace()\n",
    "            for t in range(20):\n",
    "                out = layer(torch.zeros_like(enc_x_t))\n",
    "                \n",
    "        # Check if the max goodness is correct with the y\n",
    "        _, max_goodness = torch.max(goodnesses, dim = 1)\n",
    "        cor_t += (max_goodness == y).sum()\n",
    "        tot_t += x.shape[0]\n",
    "\n",
    "    for i, (x, y) in (pbar := tqdm(enumerate(train_loader))):\n",
    "        pbar.set_description(\"Acc: %i/%i (%.2f)  | Acc Test %i/%i (%.2f) ACt [%.2f] [%s] | %.3f - %.3f\" % (cor, tot, cor/max(tot,1) ,cor_t, tot_t, cor_t/max(tot_t,1), layer.out_trace.out_trace.mean(), c_m, layer.membrane_potential.min(), layer.out_trace.out_trace.max()))\n",
    "        x_copy = x.clone()\n",
    "        c_m = [[0,0], [0,0]]   \n",
    "        \n",
    "        if i > max_i: break\n",
    "        \n",
    "        # Create lables\n",
    "        y_positivity = torch.randint(0, 2, (x.shape[0],))\n",
    "        y_labels = (y + y_positivity * torch.randint(1, 10, (x.shape[0],))) % 10\n",
    "        \n",
    "        # Create image\n",
    "        x_post = torch.cat((x.reshape(x.shape[0],784,1), labels[y_labels.long()].long().reshape(x.shape[0],100,1)), dim = 1)\n",
    "        pre_x = INPUT_STRENGTH * x_post.reshape((x.shape[0], 28 * 28 + 100))\n",
    "        pre_x = pre_x.unsqueeze(2).repeat(1,1,num_steps)\n",
    "        enc_x = torch.bernoulli(pre_x)\n",
    "\n",
    "        # Forward pass\n",
    "        for t in range(num_steps-1):\n",
    "            enc_x_t = enc_x[:, :, t].reshape((x.shape[0], 28*28+100, 1))\n",
    "\n",
    "            out = layer(enc_x_t)\n",
    "            if t > 15: layer.hebbian_update(enc_x_t, y_positivity)\n",
    "        \n",
    "        # Include the statistics\n",
    "        \n",
    "        inference_probs = layer.compute_probs()\n",
    "        historic_positivity += [y_positivity[0].item()]\n",
    "        historic_probability += [inference_probs[0].item()]\n",
    "        \n",
    "        c_m[0][0] += (inference_probs[y_positivity == 0] > 0.5).sum()\n",
    "        c_m[0][1] += (inference_probs[y_positivity == 1] > 0.5).sum()\n",
    "        c_m[1][0] += (inference_probs[y_positivity == 0] < 0.5).sum()\n",
    "        c_m[1][1] += (inference_probs[y_positivity == 1] < 0.5).sum()\n",
    "\n",
    "        cor += c_m[0][0] + c_m[1][1]\n",
    "        tot += x.shape[0]\n",
    "        \n",
    "        # Rest\n",
    "        for t in range(20):\n",
    "            out = layer(torch.zeros_like(enc_x_t))\n",
    "        layer.reset_trace()\n",
    "            \n",
    "        #if tot > 4000: raise Exception()\n",
    "        \n",
    "        if use_eval:\n",
    "            eval_step(x_copy, y)\n",
    "    \n",
    "    return layer\n",
    "\n",
    "def test(layer, max_i = 10000000):\n",
    "    cor, tot = 0, 0\n",
    "    c_m = [[0,0], [0,0]]\n",
    "    \n",
    "    for i, (x, y) in (pbar := tqdm(enumerate(test_loader))):\n",
    "        pbar.set_description(\"Acc: %i/%i (%.2f)  | ACt [%.2f] [%s] | %.3f - %.3f\" % (cor, tot, cor/max(tot,1) , layer.out_trace.out_trace.mean(), c_m, layer.membrane_potential.min(), layer.out_trace.out_trace.max()))\n",
    "      \n",
    "        if i > max_i: break\n",
    "        \n",
    "        goodnesses = torch.zeros((x.shape[0], 10))\n",
    "        for label in range(10):\n",
    "            layer.reset_trace()\n",
    "            \n",
    "            # Create the input\n",
    "            x_pos = torch.cat((x.reshape(x.shape[0],784,1), labels[label * torch.ones_like(y)].long().reshape(x.shape[0],100,1)), dim = 1)\n",
    "            \n",
    "            pre_x = INPUT_STRENGTH * x_pos.reshape((x.shape[0], 28 * 28 + 100))\n",
    "            pre_x = pre_x.unsqueeze(2).repeat(1,1,num_steps)\n",
    "            enc_x = torch.bernoulli(pre_x)\n",
    "            \n",
    "            for t in range(num_steps-1):\n",
    "                enc_x_t = enc_x[:, :, t].reshape((x.shape[0], 28*28+100, 1))\n",
    "\n",
    "                out = layer(enc_x_t)\n",
    "\n",
    "            inference_probs = layer.compute_probs()\n",
    "            goodnesses[:, label] = inference_probs\n",
    "            \n",
    "            for t in range(20):\n",
    "                out = layer(torch.zeros_like(enc_x_t))\n",
    "                \n",
    "        # Check if the max goodness is correct with the y\n",
    "        _, max_goodness = torch.max(goodnesses, dim = 1)\n",
    "        cor += (max_goodness == y).sum()\n",
    "        tot += x.shape[0]\n",
    "    \n",
    "    return cor, tot\n"
   ]
  },
  {
   "cell_type": "markdown",
   "metadata": {},
   "source": [
    "### Hyperparameter search"
   ]
  },
  {
   "cell_type": "code",
   "execution_count": 7,
   "metadata": {},
   "outputs": [
    {
     "name": "stdout",
     "output_type": "stream",
     "text": [
      "Currently at Layer_200_ReLU_Out_Trace_1_0.01_Standard\n",
      "Currently at Layer_200_ReLU_Out_Trace_1_0.01_Symmetric\n",
      "Currently at Layer_200_ReLU_Out_Trace_1_0.1_Standard\n",
      "Currently at Layer_200_ReLU_Out_Trace_1_0.1_Symmetric\n",
      "Currently at Layer_200_ReLU_Out_Trace_1_0.001_Standard\n",
      "Currently at Layer_200_ReLU_Out_Trace_1_0.001_Symmetric\n",
      "Currently at Layer_200_ReLU_Out_Trace_10_0.01_Standard\n",
      "Currently at Layer_200_ReLU_Out_Trace_10_0.01_Symmetric\n",
      "Currently at Layer_200_ReLU_Out_Trace_10_0.1_Standard\n",
      "Currently at Layer_200_ReLU_Out_Trace_10_0.1_Symmetric\n",
      "Currently at Layer_200_ReLU_Out_Trace_10_0.001_Standard\n",
      "Currently at Layer_200_ReLU_Out_Trace_10_0.001_Symmetric\n",
      "Currently at Layer_200_Standard_Out_Trace_1_0.01_Standard\n",
      "Currently at Layer_200_Standard_Out_Trace_1_0.01_Symmetric\n",
      "Currently at Layer_200_Standard_Out_Trace_1_0.1_Standard\n",
      "Currently at Layer_200_Standard_Out_Trace_1_0.1_Symmetric\n",
      "Currently at Layer_200_Standard_Out_Trace_1_0.001_Standard\n",
      "Currently at Layer_200_Standard_Out_Trace_1_0.001_Symmetric\n",
      "Currently at Layer_200_Standard_Out_Trace_10_0.01_Standard\n",
      "Currently at Layer_200_Standard_Out_Trace_10_0.01_Symmetric\n",
      "Currently at Layer_200_Standard_Out_Trace_10_0.1_Standard\n",
      "Currently at Layer_200_Standard_Out_Trace_10_0.1_Symmetric\n",
      "Currently at Layer_200_Standard_Out_Trace_10_0.001_Standard\n",
      "Currently at Layer_200_Standard_Out_Trace_10_0.001_Symmetric\n",
      "Currently at Layer_200_Ororbia_Out_Trace_1_0.01_Standard\n",
      "Currently at Layer_200_Ororbia_Out_Trace_1_0.01_Symmetric\n",
      "Currently at Layer_200_Ororbia_Out_Trace_1_0.1_Standard\n",
      "Currently at Layer_200_Ororbia_Out_Trace_1_0.1_Symmetric\n",
      "Currently at Layer_200_Ororbia_Out_Trace_1_0.001_Standard\n",
      "Currently at Layer_200_Ororbia_Out_Trace_1_0.001_Symmetric\n",
      "Currently at Layer_200_Ororbia_Out_Trace_10_0.01_Standard\n",
      "Currently at Layer_200_Ororbia_Out_Trace_10_0.01_Symmetric\n",
      "Currently at Layer_200_Ororbia_Out_Trace_10_0.1_Standard\n",
      "Currently at Layer_200_Ororbia_Out_Trace_10_0.1_Symmetric\n",
      "Currently at Layer_200_Ororbia_Out_Trace_10_0.001_Standard\n",
      "Currently at Layer_200_Ororbia_Out_Trace_10_0.001_Symmetric\n",
      "Currently at Layer_20_ReLU_Out_Trace_1_0.01_Standard\n",
      "Currently at Layer_20_ReLU_Out_Trace_1_0.01_Symmetric\n",
      "Currently at Layer_20_ReLU_Out_Trace_1_0.1_Standard\n",
      "Currently at Layer_20_ReLU_Out_Trace_1_0.1_Symmetric\n"
     ]
    },
    {
     "name": "stderr",
     "output_type": "stream",
     "text": [
      "0it [00:00, ?it/s]"
     ]
    },
    {
     "name": "stderr",
     "output_type": "stream",
     "text": [
      "Acc: 53804/59999 (0.90)  | Acc Test 0/0 (0.00) ACt [0.00] [[[tensor(1), tensor(0)], [tensor(0), tensor(0)]]] | -18266.689 - 0.000: : 60000it [47:35, 21.02it/s]\n",
      "Acc: 8166/9999 (0.82)  | ACt [0.00] [[[0, 0], [0, 0]]] | -16479.084 - 0.230: : 10000it [21:25,  7.78it/s]\n"
     ]
    },
    {
     "name": "stdout",
     "output_type": "stream",
     "text": [
      "Currently at Layer_20_ReLU_Out_Trace_1_0.001_Standard\n"
     ]
    },
    {
     "name": "stderr",
     "output_type": "stream",
     "text": [
      "Acc: 30018/59999 (0.50)  | Acc Test 0/0 (0.00) ACt [0.00] [[[tensor(0), tensor(0)], [tensor(0), tensor(1)]]] | -1.571 - 0.000: : 60000it [28:42, 34.83it/s]\n",
      "Acc: 1007/9999 (0.10)  | ACt [0.03] [[[0, 0], [0, 0]]] | -1.826 - 0.230: : 10000it [20:01,  8.32it/s]\n"
     ]
    },
    {
     "name": "stdout",
     "output_type": "stream",
     "text": [
      "Currently at Layer_20_ReLU_Out_Trace_1_0.001_Symmetric\n"
     ]
    },
    {
     "name": "stderr",
     "output_type": "stream",
     "text": [
      "Acc: 44872/59999 (0.75)  | Acc Test 0/0 (0.00) ACt [0.00] [[[tensor(1), tensor(0)], [tensor(0), tensor(0)]]] | -2630380.250 - 0.000: : 60000it [34:09, 29.27it/s]\n",
      "Acc: 6047/9999 (0.60)  | ACt [0.00] [[[0, 0], [0, 0]]] | -2672728.250 - 0.180: : 10000it [20:50,  8.00it/s]\n"
     ]
    },
    {
     "name": "stdout",
     "output_type": "stream",
     "text": [
      "Currently at Layer_20_ReLU_Out_Trace_10_0.01_Standard\n"
     ]
    },
    {
     "name": "stderr",
     "output_type": "stream",
     "text": [
      "Acc: 29881/59999 (0.50)  | Acc Test 0/0 (0.00) ACt [0.00] [[[tensor(1), tensor(0)], [tensor(0), tensor(0)]]] | -2.780 - 0.000: : 60000it [32:38, 30.64it/s]\n",
      "Acc: 1060/9999 (0.11)  | ACt [0.03] [[[0, 0], [0, 0]]] | -2.367 - 0.230: : 10000it [21:42,  7.67it/s]\n"
     ]
    },
    {
     "name": "stdout",
     "output_type": "stream",
     "text": [
      "Currently at Layer_20_ReLU_Out_Trace_10_0.01_Symmetric\n"
     ]
    },
    {
     "name": "stderr",
     "output_type": "stream",
     "text": [
      "Acc: 30052/59999 (0.50)  | Acc Test 0/0 (0.00) ACt [0.00] [[[tensor(1), tensor(0)], [tensor(0), tensor(0)]]] | -10178075.000 - 0.000: : 60000it [36:53, 27.11it/s]\n",
      "Acc: 1020/9999 (0.10)  | ACt [0.00] [[[0, 0], [0, 0]]] | -10738423.000 - 0.000: : 10000it [21:42,  7.68it/s]\n"
     ]
    },
    {
     "name": "stdout",
     "output_type": "stream",
     "text": [
      "Currently at Layer_20_ReLU_Out_Trace_10_0.1_Standard\n"
     ]
    },
    {
     "name": "stderr",
     "output_type": "stream",
     "text": [
      "Acc: 29952/59999 (0.50)  | Acc Test 0/0 (0.00) ACt [0.00] [[[tensor(1), tensor(0)], [tensor(0), tensor(0)]]] | -1.579 - 0.000: : 60000it [33:07, 30.18it/s]\n",
      "Acc: 1154/9999 (0.12)  | ACt [0.03] [[[0, 0], [0, 0]]] | -2.260 - 0.230: : 10000it [32:16,  5.16it/s]\n"
     ]
    },
    {
     "name": "stdout",
     "output_type": "stream",
     "text": [
      "Currently at Layer_20_ReLU_Out_Trace_10_0.1_Symmetric\n"
     ]
    },
    {
     "name": "stderr",
     "output_type": "stream",
     "text": [
      "Acc: 46664/59999 (0.78)  | Acc Test 0/0 (0.00) ACt [0.00] [[[tensor(0), tensor(0)], [tensor(0), tensor(1)]]] | -3100358.500 - 0.000: : 60000it [41:36, 24.03it/s]\n",
      "Acc: 5655/9999 (0.57)  | ACt [0.00] [[[0, 0], [0, 0]]] | -2919160.250 - 0.180: : 10000it [22:21,  7.45it/s]\n"
     ]
    },
    {
     "name": "stdout",
     "output_type": "stream",
     "text": [
      "Currently at Layer_20_ReLU_Out_Trace_10_0.001_Standard\n"
     ]
    },
    {
     "name": "stderr",
     "output_type": "stream",
     "text": [
      "Acc: 29933/59999 (0.50)  | Acc Test 0/0 (0.00) ACt [0.00] [[[tensor(1), tensor(0)], [tensor(0), tensor(0)]]] | -1.961 - 0.000: : 60000it [34:44, 28.78it/s]\n",
      "Acc: 1006/9999 (0.10)  | ACt [0.03] [[[0, 0], [0, 0]]] | -2.010 - 0.230: : 10000it [24:27,  6.82it/s]\n"
     ]
    },
    {
     "name": "stdout",
     "output_type": "stream",
     "text": [
      "Currently at Layer_20_ReLU_Out_Trace_10_0.001_Symmetric\n"
     ]
    },
    {
     "name": "stderr",
     "output_type": "stream",
     "text": [
      "Acc: 29873/59999 (0.50)  | Acc Test 0/0 (0.00) ACt [0.00] [[[tensor(0), tensor(1)], [tensor(0), tensor(0)]]] | -58255532.000 - 0.000: : 60000it [36:15, 27.59it/s] \n",
      "Acc: 1013/9999 (0.10)  | ACt [0.00] [[[0, 0], [0, 0]]] | -63369064.000 - 0.000: : 10000it [17:09,  9.71it/s]\n"
     ]
    },
    {
     "name": "stdout",
     "output_type": "stream",
     "text": [
      "Currently at Layer_20_Standard_Out_Trace_1_0.01_Standard\n"
     ]
    },
    {
     "name": "stderr",
     "output_type": "stream",
     "text": [
      "Acc: 51505/59999 (0.86)  | Acc Test 0/0 (0.00) ACt [0.00] [[[tensor(1), tensor(0)], [tensor(0), tensor(0)]]] | -127.235 - 0.000: : 60000it [28:40, 34.88it/s]\n",
      "Acc: 8071/9999 (0.81)  | ACt [0.00] [[[0, 0], [0, 0]]] | -156.062 - 0.000: : 10000it [17:50,  9.34it/s]\n"
     ]
    },
    {
     "name": "stdout",
     "output_type": "stream",
     "text": [
      "Currently at Layer_20_Standard_Out_Trace_1_0.01_Symmetric\n"
     ]
    },
    {
     "name": "stderr",
     "output_type": "stream",
     "text": [
      "Acc: 50267/59999 (0.84)  | Acc Test 0/0 (0.00) ACt [0.00] [[[tensor(0), tensor(0)], [tensor(0), tensor(1)]]] | -38268.227 - 0.000: : 60000it [31:18, 31.94it/s]\n",
      "Acc: 8050/9999 (0.81)  | ACt [0.00] [[[0, 0], [0, 0]]] | -23128.914 - 0.038: : 10000it [17:46,  9.38it/s]\n"
     ]
    },
    {
     "name": "stdout",
     "output_type": "stream",
     "text": [
      "Currently at Layer_20_Standard_Out_Trace_1_0.1_Standard\n"
     ]
    },
    {
     "name": "stderr",
     "output_type": "stream",
     "text": [
      "Acc: 52854/59999 (0.88)  | Acc Test 0/0 (0.00) ACt [0.00] [[[tensor(1), tensor(0)], [tensor(0), tensor(0)]]] | -155.290 - 0.000: : 60000it [28:49, 34.69it/s]\n",
      "Acc: 8506/9999 (0.85)  | ACt [0.00] [[[0, 0], [0, 0]]] | -108.075 - 0.012: : 10000it [17:44,  9.39it/s]\n"
     ]
    },
    {
     "name": "stdout",
     "output_type": "stream",
     "text": [
      "Currently at Layer_20_Standard_Out_Trace_1_0.1_Symmetric\n"
     ]
    },
    {
     "name": "stderr",
     "output_type": "stream",
     "text": [
      "Acc: 54338/59999 (0.91)  | Acc Test 0/0 (0.00) ACt [0.00] [[[tensor(0), tensor(0)], [tensor(0), tensor(1)]]] | -1929.606 - 0.000: : 60000it [31:55, 31.32it/s]\n",
      "Acc: 8712/9999 (0.87)  | ACt [0.00] [[[0, 0], [0, 0]]] | -1579.007 - 0.035: : 10000it [17:52,  9.33it/s]\n"
     ]
    },
    {
     "name": "stdout",
     "output_type": "stream",
     "text": [
      "Currently at Layer_20_Standard_Out_Trace_1_0.001_Standard\n"
     ]
    },
    {
     "name": "stderr",
     "output_type": "stream",
     "text": [
      "Acc: 47482/59999 (0.79)  | Acc Test 0/0 (0.00) ACt [0.00] [[[tensor(1), tensor(0)], [tensor(0), tensor(0)]]] | -223.703 - 0.000: : 60000it [27:48, 35.97it/s]\n",
      "Acc: 5854/9999 (0.59)  | ACt [0.00] [[[0, 0], [0, 0]]] | -157.088 - 0.022: : 10000it [17:38,  9.45it/s]\n"
     ]
    },
    {
     "name": "stdout",
     "output_type": "stream",
     "text": [
      "Currently at Layer_20_Standard_Out_Trace_1_0.001_Symmetric\n"
     ]
    },
    {
     "name": "stderr",
     "output_type": "stream",
     "text": [
      "Acc: 51440/59999 (0.86)  | Acc Test 0/0 (0.00) ACt [0.00] [[[tensor(1), tensor(0)], [tensor(0), tensor(0)]]] | -366323.781 - 0.000: : 60000it [30:46, 32.49it/s] \n",
      "Acc: 8036/9999 (0.80)  | ACt [0.00] [[[0, 0], [0, 0]]] | -314246.031 - 0.028: : 10000it [17:49,  9.35it/s]\n"
     ]
    },
    {
     "name": "stdout",
     "output_type": "stream",
     "text": [
      "Currently at Layer_20_Standard_Out_Trace_10_0.01_Standard\n"
     ]
    },
    {
     "name": "stderr",
     "output_type": "stream",
     "text": [
      "Acc: 47038/59999 (0.78)  | Acc Test 0/0 (0.00) ACt [0.00] [[[tensor(1), tensor(0)], [tensor(0), tensor(0)]]] | -1699.938 - 0.000: : 60000it [28:08, 35.53it/s]\n",
      "Acc: 5884/9999 (0.59)  | ACt [0.00] [[[0, 0], [0, 0]]] | -1259.171 - 0.033: : 10000it [17:42,  9.41it/s]\n"
     ]
    },
    {
     "name": "stdout",
     "output_type": "stream",
     "text": [
      "Currently at Layer_20_Standard_Out_Trace_10_0.01_Symmetric\n"
     ]
    },
    {
     "name": "stderr",
     "output_type": "stream",
     "text": [
      "Acc: 51773/59999 (0.86)  | Acc Test 0/0 (0.00) ACt [0.00] [[[tensor(0), tensor(0)], [tensor(0), tensor(1)]]] | -5101209.000 - 0.000: : 60000it [31:01, 32.23it/s]\n",
      "Acc: 8300/9999 (0.83)  | ACt [0.00] [[[0, 0], [0, 0]]] | -3454225.000 - 0.038: : 10000it [17:50,  9.35it/s]\n"
     ]
    },
    {
     "name": "stdout",
     "output_type": "stream",
     "text": [
      "Currently at Layer_20_Standard_Out_Trace_10_0.1_Standard\n"
     ]
    },
    {
     "name": "stderr",
     "output_type": "stream",
     "text": [
      "Acc: 49693/59999 (0.83)  | Acc Test 0/0 (0.00) ACt [0.00] [[[tensor(1), tensor(0)], [tensor(0), tensor(0)]]] | -1747.136 - 0.000: : 60000it [28:29, 35.11it/s]\n",
      "Acc: 5986/9999 (0.60)  | ACt [0.00] [[[0, 0], [0, 0]]] | -1451.615 - 0.001: : 10000it [17:48,  9.36it/s]\n"
     ]
    },
    {
     "name": "stdout",
     "output_type": "stream",
     "text": [
      "Currently at Layer_20_Standard_Out_Trace_10_0.1_Symmetric\n"
     ]
    },
    {
     "name": "stderr",
     "output_type": "stream",
     "text": [
      "Acc: 50195/59999 (0.84)  | Acc Test 0/0 (0.00) ACt [0.00] [[[tensor(0), tensor(1)], [tensor(0), tensor(0)]]] | -413373.750 - 0.000: : 60000it [31:21, 31.89it/s] \n",
      "Acc: 8063/9999 (0.81)  | ACt [0.00] [[[0, 0], [0, 0]]] | -426896.781 - 0.036: : 10000it [17:52,  9.32it/s]\n"
     ]
    },
    {
     "name": "stdout",
     "output_type": "stream",
     "text": [
      "Currently at Layer_20_Standard_Out_Trace_10_0.001_Standard\n"
     ]
    },
    {
     "name": "stderr",
     "output_type": "stream",
     "text": [
      "Acc: 34531/59999 (0.58)  | Acc Test 0/0 (0.00) ACt [0.00] [[[tensor(0), tensor(0)], [tensor(0), tensor(1)]]] | -184.912 - 0.000: : 60000it [27:36, 36.21it/s] \n",
      "Acc: 2013/9999 (0.20)  | ACt [0.00] [[[0, 0], [0, 0]]] | -1537.276 - 0.022: : 10000it [17:41,  9.42it/s]\n"
     ]
    },
    {
     "name": "stdout",
     "output_type": "stream",
     "text": [
      "Currently at Layer_20_Standard_Out_Trace_10_0.001_Symmetric\n"
     ]
    },
    {
     "name": "stderr",
     "output_type": "stream",
     "text": [
      "Acc: 46938/59999 (0.78)  | Acc Test 0/0 (0.00) ACt [0.00] [[[tensor(1), tensor(0)], [tensor(0), tensor(0)]]] | -46160548.000 - 0.000: : 60000it [30:32, 32.73it/s] \n",
      "Acc: 6528/9999 (0.65)  | ACt [0.00] [[[0, 0], [0, 0]]] | -42059944.000 - 0.033: : 10000it [19:08,  8.71it/s]\n"
     ]
    },
    {
     "name": "stdout",
     "output_type": "stream",
     "text": [
      "Currently at Layer_20_Ororbia_Out_Trace_1_0.01_Standard\n"
     ]
    },
    {
     "name": "stderr",
     "output_type": "stream",
     "text": [
      "Acc: 43215/59999 (0.72)  | Acc Test 0/0 (0.00) ACt [0.00] [[[tensor(0), tensor(0)], [tensor(0), tensor(1)]]] | -96.475 - 0.000: : 60000it [35:12, 28.41it/s] \n",
      "Acc: 5170/9999 (0.52)  | ACt [0.00] [[[0, 0], [0, 0]]] | -85.810 - 0.000: : 10000it [25:46,  6.47it/s]\n"
     ]
    },
    {
     "name": "stdout",
     "output_type": "stream",
     "text": [
      "Currently at Layer_20_Ororbia_Out_Trace_1_0.01_Symmetric\n"
     ]
    },
    {
     "name": "stderr",
     "output_type": "stream",
     "text": [
      "Acc: 50330/59999 (0.84)  | Acc Test 0/0 (0.00) ACt [0.00] [[[tensor(0), tensor(0)], [tensor(0), tensor(1)]]] | -25106.424 - 0.000: : 60000it [35:52, 27.87it/s]\n",
      "Acc: 7617/9999 (0.76)  | ACt [0.00] [[[0, 0], [0, 0]]] | -14373.590 - 0.039: : 10000it [18:45,  8.88it/s]\n"
     ]
    },
    {
     "name": "stdout",
     "output_type": "stream",
     "text": [
      "Currently at Layer_20_Ororbia_Out_Trace_1_0.1_Standard\n"
     ]
    },
    {
     "name": "stderr",
     "output_type": "stream",
     "text": [
      "Acc: 48765/59999 (0.81)  | Acc Test 0/0 (0.00) ACt [0.00] [[[tensor(0), tensor(0)], [tensor(0), tensor(1)]]] | -82.744 - 0.000: : 60000it [28:06, 35.58it/s] \n",
      "Acc: 6638/9999 (0.66)  | ACt [0.00] [[[0, 0], [0, 0]]] | -83.373 - 0.000: : 10000it [20:03,  8.31it/s]\n"
     ]
    },
    {
     "name": "stdout",
     "output_type": "stream",
     "text": [
      "Currently at Layer_20_Ororbia_Out_Trace_1_0.1_Symmetric\n"
     ]
    },
    {
     "name": "stderr",
     "output_type": "stream",
     "text": [
      "Acc: 53198/59999 (0.89)  | Acc Test 0/0 (0.00) ACt [0.00] [[[tensor(1), tensor(0)], [tensor(0), tensor(0)]]] | -755.744 - 0.000: : 60000it [42:02, 23.78it/s] \n",
      "Acc: 8493/9999 (0.85)  | ACt [0.00] [[[0, 0], [0, 0]]] | -1049.630 - 0.039: : 10000it [18:58,  8.78it/s]\n"
     ]
    },
    {
     "name": "stdout",
     "output_type": "stream",
     "text": [
      "Currently at Layer_20_Ororbia_Out_Trace_1_0.001_Standard\n"
     ]
    },
    {
     "name": "stderr",
     "output_type": "stream",
     "text": [
      "Acc: 35190/59999 (0.59)  | Acc Test 0/0 (0.00) ACt [0.00] [[[tensor(0), tensor(0)], [tensor(0), tensor(1)]]] | -113.844 - 0.000: : 60000it [28:42, 34.84it/s]\n",
      "Acc: 2954/9999 (0.30)  | ACt [0.00] [[[0, 0], [0, 0]]] | -98.592 - 0.000: : 10000it [20:02,  8.31it/s]\n"
     ]
    },
    {
     "name": "stdout",
     "output_type": "stream",
     "text": [
      "Currently at Layer_20_Ororbia_Out_Trace_1_0.001_Symmetric\n"
     ]
    },
    {
     "name": "stderr",
     "output_type": "stream",
     "text": [
      "Acc: 45683/59999 (0.76)  | Acc Test 0/0 (0.00) ACt [0.00] [[[tensor(0), tensor(0)], [tensor(0), tensor(1)]]] | -770955.312 - 0.000: : 60000it [35:28, 28.20it/s] \n",
      "Acc: 6236/9999 (0.62)  | ACt [0.00] [[[0, 0], [0, 0]]] | -485366.281 - 0.039: : 10000it [26:21,  6.32it/s]\n"
     ]
    },
    {
     "name": "stdout",
     "output_type": "stream",
     "text": [
      "Currently at Layer_20_Ororbia_Out_Trace_10_0.01_Standard\n"
     ]
    },
    {
     "name": "stderr",
     "output_type": "stream",
     "text": [
      "Acc: 34098/59999 (0.57)  | Acc Test 0/0 (0.00) ACt [0.00] [[[tensor(0), tensor(0)], [tensor(0), tensor(1)]]] | -401.331 - 0.000: : 60000it [31:35, 31.66it/s] \n",
      "Acc: 3667/9999 (0.37)  | ACt [0.00] [[[0, 0], [0, 0]]] | -804.150 - 0.000: : 10000it [23:39,  7.05it/s]\n"
     ]
    },
    {
     "name": "stdout",
     "output_type": "stream",
     "text": [
      "Currently at Layer_20_Ororbia_Out_Trace_10_0.01_Symmetric\n"
     ]
    },
    {
     "name": "stderr",
     "output_type": "stream",
     "text": [
      "Acc: 38671/59999 (0.64)  | Acc Test 0/0 (0.00) ACt [0.00] [[[tensor(0), tensor(0)], [tensor(1), tensor(0)]]] | -6833852.500 - 0.000: : 60000it [35:22, 28.27it/s] \n",
      "Acc: 4463/9999 (0.45)  | ACt [0.00] [[[0, 0], [0, 0]]] | -5489770.500 - 0.039: : 10000it [21:32,  7.74it/s]\n"
     ]
    },
    {
     "name": "stdout",
     "output_type": "stream",
     "text": [
      "Currently at Layer_20_Ororbia_Out_Trace_10_0.1_Standard\n"
     ]
    },
    {
     "name": "stderr",
     "output_type": "stream",
     "text": [
      "Acc: 40599/59999 (0.68)  | Acc Test 0/0 (0.00) ACt [0.00] [[[tensor(0), tensor(0)], [tensor(0), tensor(1)]]] | -933.454 - 0.000: : 60000it [30:16, 33.03it/s] \n",
      "Acc: 5047/9999 (0.50)  | ACt [0.00] [[[0, 0], [0, 0]]] | -898.488 - 0.000: : 10000it [21:43,  7.67it/s]\n"
     ]
    },
    {
     "name": "stdout",
     "output_type": "stream",
     "text": [
      "Currently at Layer_20_Ororbia_Out_Trace_10_0.1_Symmetric\n"
     ]
    },
    {
     "name": "stderr",
     "output_type": "stream",
     "text": [
      "Acc: 29915/59999 (0.50)  | Acc Test 0/0 (0.00) ACt [0.00] [[[tensor(0), tensor(1)], [tensor(0), tensor(0)]]] | -114673.305 - 0.000: : 60000it [35:28, 28.19it/s]\n",
      "Acc: 965/9999 (0.10)  | ACt [0.00] [[[0, 0], [0, 0]]] | -155081.828 - 0.000: : 10000it [24:09,  6.90it/s]\n"
     ]
    },
    {
     "name": "stdout",
     "output_type": "stream",
     "text": [
      "Currently at Layer_20_Ororbia_Out_Trace_10_0.001_Standard\n"
     ]
    },
    {
     "name": "stderr",
     "output_type": "stream",
     "text": [
      "Acc: 30089/59999 (0.50)  | Acc Test 0/0 (0.00) ACt [0.00] [[[tensor(0), tensor(0)], [tensor(0), tensor(1)]]] | -216.602 - 0.000: : 60000it [38:34, 25.93it/s]\n",
      "Acc: 972/9999 (0.10)  | ACt [0.00] [[[0, 0], [0, 0]]] | -199.278 - 0.000: : 10000it [23:33,  7.08it/s]\n"
     ]
    },
    {
     "name": "stdout",
     "output_type": "stream",
     "text": [
      "Currently at Layer_20_Ororbia_Out_Trace_10_0.001_Symmetric\n"
     ]
    },
    {
     "name": "stderr",
     "output_type": "stream",
     "text": [
      "Acc: 39073/59999 (0.65)  | Acc Test 0/0 (0.00) ACt [0.00] [[[tensor(1), tensor(0)], [tensor(0), tensor(0)]]] | -110016784.000 - 0.000: : 60000it [32:57, 30.33it/s]\n",
      "Acc: 4795/9999 (0.48)  | ACt [0.00] [[[0, 0], [0, 0]]] | -34637380.000 - 0.039: : 10000it [21:37,  7.71it/s]\n"
     ]
    }
   ],
   "source": [
    "import json\n",
    "\n",
    "out_traces = [ReLU_Trace(batch_size, num_neurons, factor=200), LI_Trace(batch_size, num_neurons), Hard_LI_Trace(batch_size, num_neurons)]\n",
    "probabilities = [Standard_Probability(28*28 + 100, num_neurons, nu=0.1, tau=0.01), Symmetric_Probability(28*28 + 100, num_neurons, nu=0.1, tau=0.01)]\n",
    "\n",
    "results = {}\n",
    "# Read file results.json\n",
    "with open(\"results_real_batchless.json\", \"r\") as file:\n",
    "    results = json.load(file)\n",
    "\n",
    "for topk_val in [200, 20]:\n",
    "    for out_trace_name in [\"ReLU\", \"Standard\", \"Ororbia\"]:\n",
    "        \n",
    "        if out_trace_name == \"ReLU\": out_trace_val = ReLU_Trace(batch_size, num_neurons, factor=100)\n",
    "        elif out_trace_name == \"Standard\": out_trace_val = LI_Trace(batch_size, num_neurons)\n",
    "        else: out_trace_val = Hard_LI_Trace(batch_size, num_neurons)\n",
    "        \n",
    "        for nu_t in [0.01, 0.1, 1, 10]: # Learning rate\n",
    "            for tau in [0.01, 0.1, 0.001]: # Eligibility Decay\n",
    "                for probability_name in [\"Standard\", \"Symmetric\"]:\n",
    "                    \n",
    "                    final_name = f\"Layer_{topk_val}_{out_trace_val.__class__.__name__}_{nu_t}_{tau}_{probability_name}\"\n",
    "                    print(f\"Currently at {final_name}\")\n",
    "                    \n",
    "                    if final_name in results: continue\n",
    "                    \n",
    "                    labels = torch.bernoulli(torch.ones((10, 100)) * 0.3).long()\n",
    "                    \n",
    "                    if probability_name == \"Standard\": probability = Standard_Probability(28*28 + 100, num_neurons, nu=nu_t, tau=tau, theta=0.5)\n",
    "                    else: probability = Symmetric_Probability(28*28 + 100, num_neurons, nu=nu_t, tau=tau)\n",
    "                        \n",
    "                    layer = LIF_Layer(batch_size, 28*28 +100, num_neurons, topk=topk_val, tau=0.85)\n",
    "                    layer.set_out_trace(out_trace_val)\n",
    "                    layer.set_probabilities(probability)\n",
    "                    \n",
    "                    layer = train_network(layer, use_eval = False)\n",
    "                    cor, tot = test(layer)\n",
    "                    \n",
    "                    results[final_name] = float(cor / tot)\n",
    "                    \n",
    "                    with open(\"results_real_batchless.json\", \"w\") as file:\n",
    "                        json.dump(results, file)"
   ]
  },
  {
   "cell_type": "markdown",
   "metadata": {},
   "source": [
    "#### Results in Batched Hebbian FFA"
   ]
  },
  {
   "cell_type": "code",
   "execution_count": 45,
   "metadata": {},
   "outputs": [
    {
     "name": "stdout",
     "output_type": "stream",
     "text": [
      "Out Trace: ReLU | Probability: Standard | Mean: 0.2683166652917862 | Std: 0.2562524313098202 | Max: 0.8187999725341797 | Min: 0.08709999918937683\n",
      "Out Trace: ReLU | Probability: Symmetric | Mean: 0.6956233305235704 | Std: 0.24808609074705193 | Max: 0.8687999844551086 | Min: 0.09030000120401382\n",
      "Out Trace: Standard | Probability: Standard | Mean: 0.32214999993642174 | Std: 0.2308684978829667 | Max: 0.7935000061988831 | Min: 0.09610000252723694\n",
      "Out Trace: Standard | Probability: Symmetric | Mean: 0.668433333436648 | Std: 0.2867505002274655 | Max: 0.8895999789237976 | Min: 0.10130000114440918\n",
      "Out Trace: Ororbia | Probability: Standard | Mean: 0.21673333297173183 | Std: 0.1660607738058321 | Max: 0.6367999911308289 | Min: 0.09780000150203705\n",
      "Out Trace: Ororbia | Probability: Symmetric | Mean: 0.5940900027751923 | Std: 0.31034339173508535 | Max: 0.855400025844574 | Min: 0.09929999709129333\n"
     ]
    }
   ],
   "source": [
    "with open(\"results_real.json\", \"r\") as file:\n",
    "    results = json.load(file)\n",
    "\n",
    "for out_trace in [\"ReLU\", \"Standard\", \"Ororbia\"]:\n",
    "    for probability_name in [\"Standard\", \"Symmetric\"]:\n",
    "        accs = []\n",
    "        for result in results:\n",
    "            if result.replace(\"Out_Trace_\", '').split(\"_\")[2] == out_trace and result.replace(\"Out_Trace_\", '').split(\"_\")[5] == probability_name:\n",
    "                accs.append(results[result])\n",
    "                \n",
    "        print(f\"Out Trace: {out_trace} | Probability: {probability_name} | Mean: {np.mean(accs)} | Std: {np.std(accs)} | Max: {np.max(accs)} | Min: {np.min(accs)}\")\n",
    "            \n"
   ]
  },
  {
   "cell_type": "markdown",
   "metadata": {},
   "source": [
    "#### Results in Online Hebbian FFA"
   ]
  },
  {
   "cell_type": "code",
   "execution_count": 46,
   "metadata": {},
   "outputs": [
    {
     "name": "stdout",
     "output_type": "stream",
     "text": [
      "Out Trace: ReLU | Probability: Standard | Mean: 0.3946083337068558 | Std: 0.308105881246706 | Max: 0.8392000198364258 | Min: 0.09130000323057175\n",
      "Out Trace: ReLU | Probability: Symmetric | Mean: 0.5492749996483326 | Std: 0.272880569676845 | Max: 0.8215000033378601 | Min: 0.10130000114440918\n",
      "Out Trace: Standard | Probability: Standard | Mean: 0.5907416666547457 | Std: 0.19357353047576326 | Max: 0.8507000207901001 | Min: 0.2012999951839447\n",
      "Out Trace: Standard | Probability: Symmetric | Mean: 0.7421500018487374 | Std: 0.20032884573479204 | Max: 0.8712999820709229 | Min: 0.10000000149011612\n",
      "Out Trace: Ororbia | Probability: Standard | Mean: 0.4387416671961546 | Std: 0.19631860149317118 | Max: 0.7411999702453613 | Min: 0.09719999879598618\n",
      "Out Trace: Ororbia | Probability: Symmetric | Mean: 0.5456666685640812 | Std: 0.2871427681780836 | Max: 0.8554999828338623 | Min: 0.09650000184774399\n"
     ]
    }
   ],
   "source": [
    "with open(\"results_real_batchless.json\", \"r\") as file:\n",
    "    results = json.load(file)\n",
    "\n",
    "for out_trace in [\"ReLU\", \"Standard\", \"Ororbia\"]:\n",
    "    for probability_name in [\"Standard\", \"Symmetric\"]:\n",
    "        accs = []\n",
    "        for result in results:\n",
    "            if result.replace(\"Out_Trace_\", '').split(\"_\")[2] == out_trace and result.replace(\"Out_Trace_\", '').split(\"_\")[5] == probability_name:\n",
    "                accs.append(results[result])\n",
    "                \n",
    "        print(f\"Out Trace: {out_trace} | Probability: {probability_name} | Mean: {np.mean(accs)} | Std: {np.std(accs)} | Max: {np.max(accs)} | Min: {np.min(accs)}\")\n",
    "            \n"
   ]
  },
  {
   "cell_type": "markdown",
   "metadata": {},
   "source": [
    "### Extensive Training\n",
    "\n",
    "This training represents the second aspect of RQ1 of the additional training over 10 epochs."
   ]
  },
  {
   "cell_type": "code",
   "execution_count": 9,
   "metadata": {},
   "outputs": [
    {
     "name": "stdout",
     "output_type": "stream",
     "text": [
      "\n",
      "\n",
      " Currently in 1\n"
     ]
    },
    {
     "name": "stderr",
     "output_type": "stream",
     "text": [
      "Acc: 0/0 (0.00)  | Acc Test 0/0 (0.00) ACt [0.00] [[[0, 0], [0, 0]]] | 0.000 - 0.000: : 0it [00:00, ?it/s]"
     ]
    },
    {
     "name": "stderr",
     "output_type": "stream",
     "text": [
      "Acc: 52894/59950 (0.88)  | Acc Test 0/0 (0.00) ACt [0.00] [[[tensor(24), tensor(2)], [tensor(0), tensor(24)]]] | -32.998 - 0.000: : 1200it [04:18,  4.64it/s]\n",
      "Acc: 8352/9950 (0.84)  | ACt [0.04] [[[0, 0], [0, 0]]] | -29.629 - 2.300: : 200it [03:11,  1.04it/s]\n"
     ]
    },
    {
     "name": "stdout",
     "output_type": "stream",
     "text": [
      "Accuracy: 0.8393999934196472\n"
     ]
    },
    {
     "name": "stderr",
     "output_type": "stream",
     "text": [
      "Acc: 56241/59950 (0.94)  | Acc Test 0/0 (0.00) ACt [0.00] [[[tensor(20), tensor(4)], [tensor(0), tensor(26)]]] | -61.293 - 0.000: : 1200it [04:14,  4.71it/s]\n",
      "Acc: 8804/9950 (0.88)  | ACt [0.04] [[[0, 0], [0, 0]]] | -50.785 - 2.300: : 200it [03:12,  1.04it/s]\n"
     ]
    },
    {
     "name": "stdout",
     "output_type": "stream",
     "text": [
      "Accuracy: 0.8848000168800354\n"
     ]
    },
    {
     "name": "stderr",
     "output_type": "stream",
     "text": [
      "Acc: 56918/59950 (0.95)  | Acc Test 0/0 (0.00) ACt [0.00] [[[tensor(20), tensor(1)], [tensor(0), tensor(29)]]] | -71.061 - 0.000: : 1200it [04:13,  4.74it/s]\n",
      "Acc: 9021/9950 (0.91)  | ACt [0.02] [[[0, 0], [0, 0]]] | -66.746 - 2.300: : 200it [03:13,  1.03it/s]\n"
     ]
    },
    {
     "name": "stdout",
     "output_type": "stream",
     "text": [
      "Accuracy: 0.9065999984741211\n"
     ]
    },
    {
     "name": "stderr",
     "output_type": "stream",
     "text": [
      "Acc: 56935/59950 (0.95)  | Acc Test 0/0 (0.00) ACt [0.00] [[[tensor(20), tensor(6)], [tensor(0), tensor(24)]]] | -118.576 - 0.000: : 1200it [04:01,  4.98it/s]\n",
      "Acc: 8963/9950 (0.90)  | ACt [0.02] [[[0, 0], [0, 0]]] | -87.662 - 2.300: : 200it [03:12,  1.04it/s] \n"
     ]
    },
    {
     "name": "stdout",
     "output_type": "stream",
     "text": [
      "Accuracy: 0.9007999897003174\n"
     ]
    },
    {
     "name": "stderr",
     "output_type": "stream",
     "text": [
      "Acc: 57234/59950 (0.95)  | Acc Test 0/0 (0.00) ACt [0.00] [[[tensor(19), tensor(2)], [tensor(1), tensor(28)]]] | -119.386 - 0.000: : 1200it [04:01,  4.97it/s]\n",
      "Acc: 9067/9950 (0.91)  | ACt [0.03] [[[0, 0], [0, 0]]] | -109.637 - 2.300: : 200it [03:11,  1.04it/s]\n"
     ]
    },
    {
     "name": "stdout",
     "output_type": "stream",
     "text": [
      "Accuracy: 0.9111999869346619\n"
     ]
    },
    {
     "name": "stderr",
     "output_type": "stream",
     "text": [
      "Acc: 57407/59950 (0.96)  | Acc Test 0/0 (0.00) ACt [0.00] [[[tensor(28), tensor(0)], [tensor(1), tensor(21)]]] | -160.663 - 0.000: : 1200it [04:02,  4.95it/s]\n",
      "Acc: 9076/9950 (0.91)  | ACt [0.02] [[[0, 0], [0, 0]]] | -126.956 - 2.300: : 200it [03:13,  1.03it/s]\n"
     ]
    },
    {
     "name": "stdout",
     "output_type": "stream",
     "text": [
      "Accuracy: 0.9121999740600586\n"
     ]
    },
    {
     "name": "stderr",
     "output_type": "stream",
     "text": [
      "Acc: 57336/59950 (0.96)  | Acc Test 0/0 (0.00) ACt [0.00] [[[tensor(20), tensor(0)], [tensor(1), tensor(29)]]] | -178.353 - 0.000: : 1200it [03:48,  5.24it/s]\n",
      "Acc: 9080/9950 (0.91)  | ACt [0.02] [[[0, 0], [0, 0]]] | -134.685 - 2.300: : 200it [03:11,  1.04it/s]\n"
     ]
    },
    {
     "name": "stdout",
     "output_type": "stream",
     "text": [
      "Accuracy: 0.9122999906539917\n"
     ]
    },
    {
     "name": "stderr",
     "output_type": "stream",
     "text": [
      "Acc: 57407/59950 (0.96)  | Acc Test 0/0 (0.00) ACt [0.00] [[[tensor(27), tensor(1)], [tensor(0), tensor(21)]]] | -157.007 - 0.000: : 1200it [03:52,  5.16it/s]\n",
      "Acc: 9166/9950 (0.92)  | ACt [0.02] [[[0, 0], [0, 0]]] | -149.469 - 2.300: : 200it [03:12,  1.04it/s]\n"
     ]
    },
    {
     "name": "stdout",
     "output_type": "stream",
     "text": [
      "Accuracy: 0.9211000204086304\n"
     ]
    },
    {
     "name": "stderr",
     "output_type": "stream",
     "text": [
      "Acc: 57579/59950 (0.96)  | Acc Test 0/0 (0.00) ACt [0.00] [[[tensor(23), tensor(1)], [tensor(0), tensor(26)]]] | -174.535 - 0.000: : 1200it [04:09,  4.81it/s]\n",
      "Acc: 9213/9950 (0.93)  | ACt [0.02] [[[0, 0], [0, 0]]] | -178.381 - 2.300: : 200it [03:14,  1.03it/s]\n"
     ]
    },
    {
     "name": "stdout",
     "output_type": "stream",
     "text": [
      "Accuracy: 0.9258999824523926\n"
     ]
    },
    {
     "name": "stderr",
     "output_type": "stream",
     "text": [
      "Acc: 57729/59950 (0.96)  | Acc Test 0/0 (0.00) ACt [0.00] [[[tensor(24), tensor(0)], [tensor(0), tensor(26)]]] | -182.556 - 0.000: : 1200it [03:57,  5.05it/s]\n",
      "Acc: 9229/9950 (0.93)  | ACt [0.02] [[[0, 0], [0, 0]]] | -175.356 - 2.300: : 200it [03:08,  1.06it/s]\n"
     ]
    },
    {
     "name": "stdout",
     "output_type": "stream",
     "text": [
      "Accuracy: 0.927299976348877\n",
      "\n",
      "\n",
      " Currently in 2\n"
     ]
    },
    {
     "name": "stderr",
     "output_type": "stream",
     "text": [
      "Acc: 47330/59950 (0.79)  | Acc Test 0/0 (0.00) ACt [0.00] [[[tensor(21), tensor(3)], [tensor(0), tensor(26)]]] | -212.790 - 0.000: : 1200it [03:40,  5.43it/s] \n",
      "Acc: 7890/9950 (0.79)  | ACt [0.00] [[[0, 0], [0, 0]]] | -135.388 - 0.038: : 200it [03:07,  1.07it/s]\n"
     ]
    },
    {
     "name": "stdout",
     "output_type": "stream",
     "text": [
      "Accuracy: 0.7932999730110168\n"
     ]
    },
    {
     "name": "stderr",
     "output_type": "stream",
     "text": [
      "Acc: 53741/59950 (0.90)  | Acc Test 0/0 (0.00) ACt [0.00] [[[tensor(25), tensor(3)], [tensor(4), tensor(18)]]] | -268.899 - 0.000: : 1200it [03:41,  5.42it/s] \n",
      "Acc: 8213/9950 (0.83)  | ACt [0.00] [[[0, 0], [0, 0]]] | -148.458 - 0.038: : 200it [03:07,  1.07it/s]\n"
     ]
    },
    {
     "name": "stdout",
     "output_type": "stream",
     "text": [
      "Accuracy: 0.8251000046730042\n"
     ]
    },
    {
     "name": "stderr",
     "output_type": "stream",
     "text": [
      "Acc: 54484/59950 (0.91)  | Acc Test 0/0 (0.00) ACt [0.00] [[[tensor(24), tensor(0)], [tensor(4), tensor(22)]]] | -245.750 - 0.000: : 1200it [03:41,  5.41it/s]\n",
      "Acc: 8266/9950 (0.83)  | ACt [0.00] [[[0, 0], [0, 0]]] | -170.213 - 0.038: : 200it [03:08,  1.06it/s]\n"
     ]
    },
    {
     "name": "stdout",
     "output_type": "stream",
     "text": [
      "Accuracy: 0.830299973487854\n"
     ]
    },
    {
     "name": "stderr",
     "output_type": "stream",
     "text": [
      "Acc: 54903/59950 (0.92)  | Acc Test 0/0 (0.00) ACt [0.00] [[[tensor(21), tensor(3)], [tensor(2), tensor(24)]]] | -204.308 - 0.000: : 1200it [03:41,  5.41it/s]\n",
      "Acc: 8425/9950 (0.85)  | ACt [0.00] [[[0, 0], [0, 0]]] | -167.455 - 0.038: : 200it [03:08,  1.06it/s]\n"
     ]
    },
    {
     "name": "stdout",
     "output_type": "stream",
     "text": [
      "Accuracy: 0.8468000292778015\n"
     ]
    },
    {
     "name": "stderr",
     "output_type": "stream",
     "text": [
      "Acc: 55294/59950 (0.92)  | Acc Test 0/0 (0.00) ACt [0.00] [[[tensor(21), tensor(1)], [tensor(2), tensor(26)]]] | -254.862 - 0.000: : 1200it [03:41,  5.41it/s]\n",
      "Acc: 8541/9950 (0.86)  | ACt [0.00] [[[0, 0], [0, 0]]] | -181.912 - 0.038: : 200it [03:08,  1.06it/s]\n"
     ]
    },
    {
     "name": "stdout",
     "output_type": "stream",
     "text": [
      "Accuracy: 0.8585000038146973\n"
     ]
    },
    {
     "name": "stderr",
     "output_type": "stream",
     "text": [
      "Acc: 55519/59950 (0.93)  | Acc Test 0/0 (0.00) ACt [0.00] [[[tensor(30), tensor(1)], [tensor(1), tensor(18)]]] | -307.671 - 0.000: : 1200it [03:41,  5.41it/s]\n",
      "Acc: 8586/9950 (0.86)  | ACt [0.00] [[[0, 0], [0, 0]]] | -200.619 - 0.038: : 200it [03:08,  1.06it/s]\n"
     ]
    },
    {
     "name": "stdout",
     "output_type": "stream",
     "text": [
      "Accuracy: 0.8626000285148621\n"
     ]
    },
    {
     "name": "stderr",
     "output_type": "stream",
     "text": [
      "Acc: 55533/59950 (0.93)  | Acc Test 0/0 (0.00) ACt [0.00] [[[tensor(23), tensor(0)], [tensor(3), tensor(24)]]] | -265.461 - 0.000: : 1200it [03:42,  5.40it/s]\n",
      "Acc: 8514/9950 (0.86)  | ACt [0.00] [[[0, 0], [0, 0]]] | -189.438 - 0.038: : 200it [03:08,  1.06it/s]\n"
     ]
    },
    {
     "name": "stdout",
     "output_type": "stream",
     "text": [
      "Accuracy: 0.8560000061988831\n"
     ]
    },
    {
     "name": "stderr",
     "output_type": "stream",
     "text": [
      "Acc: 55425/59950 (0.92)  | Acc Test 0/0 (0.00) ACt [0.00] [[[tensor(22), tensor(1)], [tensor(1), tensor(26)]]] | -210.554 - 0.000: : 1200it [03:42,  5.40it/s]\n",
      "Acc: 8581/9950 (0.86)  | ACt [0.00] [[[0, 0], [0, 0]]] | -229.900 - 0.038: : 200it [03:08,  1.06it/s]\n"
     ]
    },
    {
     "name": "stdout",
     "output_type": "stream",
     "text": [
      "Accuracy: 0.8621000051498413\n"
     ]
    },
    {
     "name": "stderr",
     "output_type": "stream",
     "text": [
      "Acc: 55380/59950 (0.92)  | Acc Test 0/0 (0.00) ACt [0.00] [[[tensor(23), tensor(4)], [tensor(7), tensor(16)]]] | -262.187 - 0.000: : 1200it [03:42,  5.39it/s]\n",
      "Acc: 8540/9950 (0.86)  | ACt [0.00] [[[0, 0], [0, 0]]] | -270.588 - 0.038: : 200it [03:09,  1.05it/s]\n"
     ]
    },
    {
     "name": "stdout",
     "output_type": "stream",
     "text": [
      "Accuracy: 0.8583999872207642\n"
     ]
    },
    {
     "name": "stderr",
     "output_type": "stream",
     "text": [
      "Acc: 55274/59950 (0.92)  | Acc Test 0/0 (0.00) ACt [0.00] [[[tensor(25), tensor(1)], [tensor(3), tensor(21)]]] | -250.613 - 0.000: : 1200it [03:41,  5.42it/s]\n",
      "Acc: 8497/9950 (0.85)  | ACt [0.00] [[[0, 0], [0, 0]]] | -270.055 - 0.038: : 200it [03:08,  1.06it/s]\n"
     ]
    },
    {
     "name": "stdout",
     "output_type": "stream",
     "text": [
      "Accuracy: 0.8537999987602234\n",
      "\n",
      "\n",
      " Currently in 3\n"
     ]
    },
    {
     "name": "stderr",
     "output_type": "stream",
     "text": [
      "Acc: 54858/59999 (0.91)  | Acc Test 0/0 (0.00) ACt [0.00] [[[tensor(1), tensor(0)], [tensor(0), tensor(0)]]] | -1596.665 - 0.000: : 60000it [31:02, 32.22it/s]\n",
      "Acc: 8725/9999 (0.87)  | ACt [0.00] [[[0, 0], [0, 0]]] | -1353.956 - 0.031: : 10000it [16:22, 10.17it/s]\n"
     ]
    },
    {
     "name": "stdout",
     "output_type": "stream",
     "text": [
      "Accuracy: 0.8726000189781189\n"
     ]
    },
    {
     "name": "stderr",
     "output_type": "stream",
     "text": [
      "Acc: 57110/59999 (0.95)  | Acc Test 0/0 (0.00) ACt [0.00] [[[tensor(0), tensor(0)], [tensor(0), tensor(1)]]] | -2296.773 - 0.000: : 60000it [30:50, 32.42it/s]\n",
      "Acc: 9112/9999 (0.91)  | ACt [0.00] [[[0, 0], [0, 0]]] | -2123.925 - 0.037: : 10000it [16:17, 10.23it/s]\n"
     ]
    },
    {
     "name": "stdout",
     "output_type": "stream",
     "text": [
      "Accuracy: 0.911300003528595\n"
     ]
    },
    {
     "name": "stderr",
     "output_type": "stream",
     "text": [
      "Acc: 57595/59999 (0.96)  | Acc Test 0/0 (0.00) ACt [0.00] [[[tensor(0), tensor(0)], [tensor(0), tensor(1)]]] | -3091.857 - 0.000: : 60000it [30:49, 32.44it/s]\n",
      "Acc: 9211/9999 (0.92)  | ACt [0.00] [[[0, 0], [0, 0]]] | -2602.552 - 0.035: : 10000it [16:15, 10.26it/s]\n"
     ]
    },
    {
     "name": "stdout",
     "output_type": "stream",
     "text": [
      "Accuracy: 0.9211999773979187\n"
     ]
    },
    {
     "name": "stderr",
     "output_type": "stream",
     "text": [
      "Acc: 57965/59999 (0.97)  | Acc Test 0/0 (0.00) ACt [0.00] [[[tensor(0), tensor(0)], [tensor(0), tensor(1)]]] | -3429.343 - 0.000: : 60000it [30:53, 32.37it/s]\n",
      "Acc: 9290/9999 (0.93)  | ACt [0.00] [[[0, 0], [0, 0]]] | -3100.384 - 0.035: : 10000it [16:19, 10.21it/s]\n"
     ]
    },
    {
     "name": "stdout",
     "output_type": "stream",
     "text": [
      "Accuracy: 0.929099977016449\n"
     ]
    },
    {
     "name": "stderr",
     "output_type": "stream",
     "text": [
      "Acc: 58105/59999 (0.97)  | Acc Test 0/0 (0.00) ACt [0.00] [[[tensor(1), tensor(0)], [tensor(0), tensor(0)]]] | -3218.893 - 0.000: : 60000it [30:51, 32.40it/s]\n",
      "Acc: 9299/9999 (0.93)  | ACt [0.00] [[[0, 0], [0, 0]]] | -3281.938 - 0.034: : 10000it [16:19, 10.21it/s]\n"
     ]
    },
    {
     "name": "stdout",
     "output_type": "stream",
     "text": [
      "Accuracy: 0.9300000071525574\n"
     ]
    },
    {
     "name": "stderr",
     "output_type": "stream",
     "text": [
      "Acc: 58286/59999 (0.97)  | Acc Test 0/0 (0.00) ACt [0.00] [[[tensor(1), tensor(0)], [tensor(0), tensor(0)]]] | -2820.671 - 0.000: : 60000it [30:53, 32.37it/s]\n",
      "Acc: 9285/9999 (0.93)  | ACt [0.00] [[[0, 0], [0, 0]]] | -4251.251 - 0.037: : 10000it [16:19, 10.20it/s]\n"
     ]
    },
    {
     "name": "stdout",
     "output_type": "stream",
     "text": [
      "Accuracy: 0.928600013256073\n"
     ]
    },
    {
     "name": "stderr",
     "output_type": "stream",
     "text": [
      "Acc: 58364/59999 (0.97)  | Acc Test 0/0 (0.00) ACt [0.00] [[[tensor(1), tensor(0)], [tensor(0), tensor(0)]]] | -4309.574 - 0.000: : 60000it [30:53, 32.36it/s]\n",
      "Acc: 9361/9999 (0.94)  | ACt [0.00] [[[0, 0], [0, 0]]] | -4173.687 - 0.035: : 10000it [16:19, 10.21it/s]\n"
     ]
    },
    {
     "name": "stdout",
     "output_type": "stream",
     "text": [
      "Accuracy: 0.9362000226974487\n"
     ]
    },
    {
     "name": "stderr",
     "output_type": "stream",
     "text": [
      "Acc: 58396/59999 (0.97)  | Acc Test 0/0 (0.00) ACt [0.00] [[[tensor(0), tensor(0)], [tensor(0), tensor(1)]]] | -4297.339 - 0.000: : 60000it [30:53, 32.37it/s] \n",
      "Acc: 9415/9999 (0.94)  | ACt [0.00] [[[0, 0], [0, 0]]] | -4420.366 - 0.038: : 10000it [16:18, 10.22it/s]\n"
     ]
    },
    {
     "name": "stdout",
     "output_type": "stream",
     "text": [
      "Accuracy: 0.9416000247001648\n"
     ]
    },
    {
     "name": "stderr",
     "output_type": "stream",
     "text": [
      "Acc: 58442/59999 (0.97)  | Acc Test 0/0 (0.00) ACt [0.00] [[[tensor(1), tensor(0)], [tensor(0), tensor(0)]]] | -5550.818 - 0.000: : 60000it [30:53, 32.37it/s] \n",
      "Acc: 9435/9999 (0.94)  | ACt [0.00] [[[0, 0], [0, 0]]] | -4902.801 - 0.028: : 10000it [16:59,  9.80it/s]\n"
     ]
    },
    {
     "name": "stdout",
     "output_type": "stream",
     "text": [
      "Accuracy: 0.9435999989509583\n"
     ]
    },
    {
     "name": "stderr",
     "output_type": "stream",
     "text": [
      "Acc: 58483/59999 (0.97)  | Acc Test 0/0 (0.00) ACt [0.00] [[[tensor(0), tensor(0)], [tensor(0), tensor(1)]]] | -7895.269 - 0.000: : 60000it [31:42, 31.53it/s] \n",
      "Acc: 9432/9999 (0.94)  | ACt [0.00] [[[0, 0], [0, 0]]] | -4582.125 - 0.031: : 10000it [18:04,  9.22it/s]\n"
     ]
    },
    {
     "name": "stdout",
     "output_type": "stream",
     "text": [
      "Accuracy: 0.9433000087738037\n",
      "\n",
      "\n",
      " Currently in 4\n"
     ]
    },
    {
     "name": "stderr",
     "output_type": "stream",
     "text": [
      "Acc: 45200/59999 (0.75)  | Acc Test 0/0 (0.00) ACt [0.00] [[[tensor(1), tensor(0)], [tensor(0), tensor(0)]]] | -331.031 - 0.000: : 60000it [36:49, 27.16it/s] \n",
      "Acc: 6907/9999 (0.69)  | ACt [0.00] [[[0, 0], [0, 0]]] | -289.954 - 0.038: : 10000it [18:27,  9.03it/s]\n"
     ]
    },
    {
     "name": "stdout",
     "output_type": "stream",
     "text": [
      "Accuracy: 0.6908000111579895\n"
     ]
    },
    {
     "name": "stderr",
     "output_type": "stream",
     "text": [
      "Acc: 50011/59999 (0.83)  | Acc Test 0/0 (0.00) ACt [0.00] [[[tensor(0), tensor(0)], [tensor(0), tensor(1)]]] | -322.551 - 0.000: : 60000it [29:10, 34.28it/s] \n",
      "Acc: 7192/9999 (0.72)  | ACt [0.00] [[[0, 0], [0, 0]]] | -237.670 - 0.038: : 10000it [19:09,  8.70it/s]\n"
     ]
    },
    {
     "name": "stdout",
     "output_type": "stream",
     "text": [
      "Accuracy: 0.7192999720573425\n"
     ]
    },
    {
     "name": "stderr",
     "output_type": "stream",
     "text": [
      "Acc: 53529/59999 (0.89)  | Acc Test 0/0 (0.00) ACt [0.00] [[[tensor(0), tensor(0)], [tensor(0), tensor(1)]]] | -1683.774 - 0.000: : 60000it [38:16, 26.13it/s]\n",
      "Acc: 8503/9999 (0.85)  | ACt [0.00] [[[0, 0], [0, 0]]] | -427.790 - 0.034: : 10000it [19:28,  8.56it/s]\n"
     ]
    },
    {
     "name": "stdout",
     "output_type": "stream",
     "text": [
      "Accuracy: 0.8503999710083008\n"
     ]
    },
    {
     "name": "stderr",
     "output_type": "stream",
     "text": [
      "Acc: 55060/59999 (0.92)  | Acc Test 0/0 (0.00) ACt [0.00] [[[tensor(0), tensor(0)], [tensor(0), tensor(1)]]] | -425.502 - 0.000: : 60000it [31:11, 32.06it/s] \n",
      "Acc: 8510/9999 (0.85)  | ACt [0.00] [[[0, 0], [0, 0]]] | -490.542 - 0.024: : 10000it [23:14,  7.17it/s]\n"
     ]
    },
    {
     "name": "stdout",
     "output_type": "stream",
     "text": [
      "Accuracy: 0.8511000275611877\n"
     ]
    },
    {
     "name": "stderr",
     "output_type": "stream",
     "text": [
      "Acc: 54774/59999 (0.91)  | Acc Test 0/0 (0.00) ACt [0.00] [[[tensor(0), tensor(0)], [tensor(0), tensor(1)]]] | -2831.177 - 0.000: : 60000it [29:46, 33.59it/s]\n",
      "Acc: 8306/9999 (0.83)  | ACt [0.00] [[[0, 0], [0, 0]]] | -819.417 - 0.005: : 10000it [18:10,  9.17it/s]\n"
     ]
    },
    {
     "name": "stdout",
     "output_type": "stream",
     "text": [
      "Accuracy: 0.8306999802589417\n"
     ]
    },
    {
     "name": "stderr",
     "output_type": "stream",
     "text": [
      "Acc: 53781/59999 (0.90)  | Acc Test 0/0 (0.00) ACt [0.00] [[[tensor(0), tensor(0)], [tensor(0), tensor(1)]]] | -3345.291 - 0.000: : 60000it [29:55, 33.42it/s]\n",
      "Acc: 8149/9999 (0.81)  | ACt [0.00] [[[0, 0], [0, 0]]] | -501.963 - 0.011: : 10000it [19:04,  8.74it/s]\n"
     ]
    },
    {
     "name": "stdout",
     "output_type": "stream",
     "text": [
      "Accuracy: 0.8149999976158142\n"
     ]
    },
    {
     "name": "stderr",
     "output_type": "stream",
     "text": [
      "Acc: 53604/59999 (0.89)  | Acc Test 0/0 (0.00) ACt [0.00] [[[tensor(1), tensor(0)], [tensor(0), tensor(0)]]] | -3678.312 - 0.000: : 60000it [37:34, 26.61it/s]\n",
      "Acc: 8184/9999 (0.82)  | ACt [0.00] [[[0, 0], [0, 0]]] | -578.763 - 0.026: : 10000it [31:08,  5.35it/s]\n"
     ]
    },
    {
     "name": "stdout",
     "output_type": "stream",
     "text": [
      "Accuracy: 0.8184999823570251\n"
     ]
    },
    {
     "name": "stderr",
     "output_type": "stream",
     "text": [
      "Acc: 53784/59999 (0.90)  | Acc Test 0/0 (0.00) ACt [0.00] [[[tensor(0), tensor(0)], [tensor(0), tensor(1)]]] | -3283.369 - 0.000: : 60000it [32:53, 30.41it/s]\n",
      "Acc: 8239/9999 (0.82)  | ACt [0.00] [[[0, 0], [0, 0]]] | -1302.190 - 0.010: : 10000it [23:06,  7.21it/s]\n"
     ]
    },
    {
     "name": "stdout",
     "output_type": "stream",
     "text": [
      "Accuracy: 0.8240000009536743\n"
     ]
    },
    {
     "name": "stderr",
     "output_type": "stream",
     "text": [
      "Acc: 54002/59999 (0.90)  | Acc Test 0/0 (0.00) ACt [0.00] [[[tensor(0), tensor(0)], [tensor(0), tensor(1)]]] | -2760.460 - 0.000: : 60000it [37:43, 26.51it/s]\n",
      "Acc: 8074/9999 (0.81)  | ACt [0.00] [[[0, 0], [0, 0]]] | -688.366 - 0.028: : 10000it [23:11,  7.19it/s]\n"
     ]
    },
    {
     "name": "stdout",
     "output_type": "stream",
     "text": [
      "Accuracy: 0.8075000047683716\n"
     ]
    },
    {
     "name": "stderr",
     "output_type": "stream",
     "text": [
      "Acc: 54181/59999 (0.90)  | Acc Test 0/0 (0.00) ACt [0.00] [[[tensor(0), tensor(0)], [tensor(1), tensor(0)]]] | -718.869 - 0.000: : 60000it [37:57, 26.34it/s] \n",
      "Acc: 8171/9999 (0.82)  | ACt [0.00] [[[0, 0], [0, 0]]] | -794.037 - 0.031: : 10000it [22:52,  7.28it/s]"
     ]
    },
    {
     "name": "stdout",
     "output_type": "stream",
     "text": [
      "Accuracy: 0.8172000050544739\n"
     ]
    },
    {
     "name": "stderr",
     "output_type": "stream",
     "text": [
      "\n"
     ]
    }
   ],
   "source": [
    "import json\n",
    "\n",
    "# Batched\n",
    "config_1 = [Symmetric_Probability(28*28 + 100, num_neurons, nu=1, tau=0.1), ReLU_Trace(50, num_neurons), 200]\n",
    "config_2 = [Standard_Probability(28*28 + 100, num_neurons, nu=10, tau=0.1), LI_Trace(50, num_neurons), 200]\n",
    "\n",
    "config_3 = [Symmetric_Probability(28*28 + 100, num_neurons, nu=1, tau=0.1), LI_Trace(1, num_neurons), 200]\n",
    "config_4 = [Standard_Probability(28*28 + 100, num_neurons, nu=1, tau=0.1), LI_Trace(1, num_neurons), 200]\n",
    "\n",
    "configs = [config_1, config_2, config_3, config_4]\n",
    "\n",
    "ii = 0\n",
    "accuracies = {}\n",
    "for config in configs:\n",
    "    ii+=1\n",
    "    print(f\"\\n\\n Currently in {ii}\")\n",
    "    \n",
    "\n",
    "    if ii == 1 or ii == 2:\n",
    "        batch_size = 50\n",
    "    else:\n",
    "        batch_size = 1\n",
    "        \n",
    "\n",
    "    num_steps = 24\n",
    "    \n",
    "    train_MNIST = torchvision.datasets.MNIST('./../data/mnist', train=True, download=False, transform=torchvision.transforms.ToTensor())\n",
    "    test_MNIST = torchvision.datasets.MNIST('./../data/mnist', train=False, download=False, transform=torchvision.transforms.ToTensor())\n",
    "\n",
    "    train_loader = torch.utils.data.DataLoader(train_MNIST, batch_size = batch_size, shuffle = True)\n",
    "    test_loader = torch.utils.data.DataLoader(test_MNIST, batch_size = batch_size, shuffle = False)\n",
    "    \n",
    "    \n",
    "    \n",
    "    accuracies[ii] = []\n",
    "    \n",
    "    layer = LIF_Layer(batch_size, 28*28 +100, num_neurons, topk=config[2], tau=0.85)\n",
    "    layer.set_out_trace(config[1])\n",
    "    layer.set_probabilities(config[0])\n",
    "    \n",
    "    labels = torch.bernoulli(torch.ones((10, 100)) * 0.3).long()\n",
    "    \n",
    "    for i in range(10):\n",
    "        layer = train_network(layer, use_eval = False)\n",
    "        cor, tot = test(layer)\n",
    "        print(f\"Accuracy: {cor / tot}\")\n",
    "        accuracies[ii].append(float(cor / tot))\n",
    "    \n",
    "    # Save model weights\n",
    "    torch.save(layer.weights, f\"results/models/model_{ii}.pt\")\n",
    "    # Save labels\n",
    "    torch.save(labels, f\"results/models/labels_{ii}.pt\")\n",
    "    \n",
    "    with open(\"results_training_batchless_final.json\", \"w\") as file:\n",
    "        json.dump(accuracies, file)"
   ]
  },
  {
   "cell_type": "markdown",
   "metadata": {},
   "source": [
    "### Latent Vector Extraction"
   ]
  },
  {
   "cell_type": "code",
   "execution_count": 16,
   "metadata": {},
   "outputs": [
    {
     "name": "stdout",
     "output_type": "stream",
     "text": [
      "At 1\n"
     ]
    },
    {
     "name": "stderr",
     "output_type": "stream",
     "text": [
      "100%|██████████| 200/200 [00:16<00:00, 12.29it/s]\n"
     ]
    },
    {
     "name": "stdout",
     "output_type": "stream",
     "text": [
      "At 2\n"
     ]
    },
    {
     "name": "stderr",
     "output_type": "stream",
     "text": [
      "100%|██████████| 200/200 [00:16<00:00, 12.22it/s]\n"
     ]
    },
    {
     "name": "stdout",
     "output_type": "stream",
     "text": [
      "At 3\n"
     ]
    },
    {
     "name": "stderr",
     "output_type": "stream",
     "text": [
      "100%|██████████| 10000/10000 [01:26<00:00, 115.42it/s]\n"
     ]
    },
    {
     "name": "stdout",
     "output_type": "stream",
     "text": [
      "At 4\n"
     ]
    },
    {
     "name": "stderr",
     "output_type": "stream",
     "text": [
      "100%|██████████| 10000/10000 [01:26<00:00, 115.82it/s]\n"
     ]
    }
   ],
   "source": [
    "moodels = []\n",
    "\n",
    "# Batched\n",
    "config_1 = [Symmetric_Probability(28*28 + 100, num_neurons, nu=1, tau=0.1), ReLU_Trace(50, num_neurons), 200]\n",
    "config_2 = [Standard_Probability(28*28 + 100, num_neurons, nu=10, tau=0.1), LI_Trace(50, num_neurons), 200]\n",
    "\n",
    "config_3 = [Symmetric_Probability(28*28 + 100, num_neurons, nu=1, tau=0.1), LI_Trace(1, num_neurons), 200]\n",
    "config_4 = [Standard_Probability(28*28 + 100, num_neurons, nu=1, tau=0.1), LI_Trace(1, num_neurons), 200]\n",
    "\n",
    "configs = [config_1, config_2, config_3, config_4]\n",
    "\n",
    "ii = 0\n",
    "accuracies = {}\n",
    "\n",
    "models = {}\n",
    "for config in configs:\n",
    "    ii+=1\n",
    "    print(f\"\\n\\n Currently in {ii}\")\n",
    "    \n",
    "\n",
    "    if ii == 1 or ii == 2:\n",
    "        batch_size = 50\n",
    "    else:\n",
    "        batch_size = 1\n",
    "    \n",
    "    accuracies[ii] = []\n",
    "    \n",
    "    layer = LIF_Layer(batch_size, 28*28 +100, num_neurons, topk=config[2], tau=0.85)\n",
    "    layer.set_out_trace(config[1])\n",
    "    layer.set_probabilities(config[0])\n",
    "\n",
    "    layer.weights = torch.load(f\"results/models/model_{ii}.pt\")\n",
    "    labels = torch.load(f\"results/models/labels_{ii}.pt\")\n",
    "    \n",
    "    # Load All models\n",
    "    models[ii] = (layer, labels)\n",
    "    \n",
    "\n",
    "latents = {}\n",
    "labels_nn = {}\n",
    "\n",
    "for i in range(1,5):\n",
    "    print(f\"At {i}\")\n",
    "    if i == 1 or i == 2:\n",
    "        batch_size = 50\n",
    "    else:\n",
    "        batch_size = 1\n",
    "        \n",
    "    train_MNIST = torchvision.datasets.MNIST('./../data/mnist', train=True, download=False, transform=torchvision.transforms.ToTensor())\n",
    "    test_MNIST = torchvision.datasets.MNIST('./../data/mnist', train=False, download=False, transform=torchvision.transforms.ToTensor())\n",
    "\n",
    "    train_loader = torch.utils.data.DataLoader(train_MNIST, batch_size = batch_size, shuffle = True)\n",
    "    test_loader = torch.utils.data.DataLoader(test_MNIST, batch_size = batch_size, shuffle = True)\n",
    "    \n",
    "    layer, labels = models[i]\n",
    "    latents[i] = torch.zeros(10000, num_steps, num_neurons)\n",
    "    labels_nn[i] = torch.zeros(10000)\n",
    "    pp = 0\n",
    "    \n",
    "    \n",
    "    for x, y in tqdm(test_loader):\n",
    "        x_pos = torch.cat((x.reshape(x.shape[0],784,1), labels[y].long().reshape(x.shape[0],100,1)), dim = 1)\n",
    "        pre_x = INPUT_STRENGTH * x_pos.reshape((x.shape[0], 28 * 28 + 100))\n",
    "        pre_x = pre_x.unsqueeze(2).repeat(1,1,num_steps)\n",
    "        enc_x = torch.bernoulli(pre_x)\n",
    "        layer.reset_trace()\n",
    "        for t in range(num_steps-1):\n",
    "            enc_x_t = enc_x[:, :, t].reshape((x.shape[0], 28*28+100, 1))\n",
    "\n",
    "            out = layer(enc_x_t)\n",
    "\n",
    "            latents[i][pp * batch_size : (pp+1) * batch_size, t] = out.detach().clone()\n",
    "            labels_nn[i][pp * batch_size : (pp+1) * batch_size] = y\n",
    "        pp+=1 \n",
    "        \n",
    "latents_agg = {}\n",
    "latents_agg[1] = latents[1].sum(dim = 1)\n",
    "latents_agg[2] = latents[2].sum(dim = 1)\n",
    "latents_agg[3] = latents[3].sum(dim = 1)\n",
    "latents_agg[4] = latents[4].sum(dim = 1)\n",
    "\n",
    "torch.save(latents_agg, \"results/latents/latents_agg.pt\")\n",
    "torch.save(labels_nn, \"results/latents/labels_nn.pt\")"
   ]
  },
  {
   "cell_type": "markdown",
   "metadata": {},
   "source": [
    "## Analog Training Process"
   ]
  },
  {
   "cell_type": "markdown",
   "metadata": {},
   "source": [
    "### Definition of the ReLU Layer"
   ]
  },
  {
   "cell_type": "code",
   "execution_count": 7,
   "metadata": {},
   "outputs": [],
   "source": [
    "import torch\n",
    "\n",
    "class ReLU_Layer(torch.nn.Linear):\n",
    "    def __init__(self, batch_size, num_inputs, num_neurons):\n",
    "        super().__init__(num_inputs, num_neurons, bias=False)\n",
    "        # Dimension Values\n",
    "        self.num_inputs = num_inputs\n",
    "        self.num_neurons = num_neurons\n",
    "        \n",
    "        # Hyperparameters\n",
    "        self.batch_size = batch_size\n",
    "\n",
    "        ## Extras\n",
    "        self.probabilities = None\n",
    "        \n",
    "\n",
    "    def set_probabilities(self, probabilities):\n",
    "        self.probabilities = probabilities\n",
    "\n",
    "    def set_update(self, update):\n",
    "        self.update = update\n",
    "        \n",
    "    def forward(self, x):\n",
    "        self.output = super().forward(x)\n",
    "        \n",
    "        # apply relu\n",
    "        output = torch.relu(self.output)\n",
    "        \n",
    "        return output\n",
    "    \n",
    "    def __call__(self, x):\n",
    "        return self.forward(x)\n",
    "        \n",
    "    def compute_probs(self):\n",
    "        return self.probabilities.compute_probs(self.out_trace.out_trace)\n",
    "        \n",
    "        \n",
    "        "
   ]
  },
  {
   "cell_type": "code",
   "execution_count": 81,
   "metadata": {},
   "outputs": [],
   "source": [
    "def loss_function(output, target):\n",
    "    output = torch.clamp(output, 1e-5, 1-1e-5)\n",
    "    \n",
    "    return torch.nn.BCELoss()(output, target)\n",
    "\n",
    "def train_network_ann(layer, probability, optimizer, labels, max_i):\n",
    "    \n",
    "    for i, (x, y) in tqdm(enumerate(train_loader)):\n",
    "        \n",
    "        if i > max_i: break\n",
    "        \n",
    "        # Create lables\n",
    "        y_positivity = torch.randint(0, 2, (x.shape[0],))\n",
    "        y_labels = (y + (1-y_positivity) * torch.randint(1, 10, (x.shape[0],))) % 10\n",
    "        \n",
    "        # Create image\n",
    "        x_post = torch.cat((x.reshape(x.shape[0],784), labels[y_labels.long()].long().reshape(x.shape[0],100)), dim = 1)\n",
    "        \n",
    "        # Forward pass\n",
    "        out = layer(x_post)\n",
    "        prob = probability.compute_probs(out)\n",
    "        \n",
    "        optimizer.zero_grad()\n",
    "        loss = loss_function(prob, y_positivity.float())\n",
    "        print(loss)\n",
    "        loss.backward(retain_graph=True)\n",
    "        optimizer.step()   \n",
    "\n",
    "def test_ann(layer, probability, labels):\n",
    "    cor, tot = 0, 0\n",
    "    c_m = [[0,0], [0,0]]\n",
    "    \n",
    "    for i, (x, y) in (pbar := tqdm(enumerate(test_loader))):\n",
    "        pbar.set_description(\"Acc: %i/%i (%.2f) | [%s] |\" % (cor, tot, cor/max(tot,1) , c_m))\n",
    "      \n",
    "        goodnesses = torch.zeros((x.shape[0], 10))\n",
    "        for label in range(10):\n",
    "            \n",
    "            # Create the input\n",
    "            x_pos = torch.cat((x.reshape(x.shape[0],784), labels[label * torch.ones_like(y)].long().reshape(x.shape[0],100)), dim = 1)\n",
    "            \n",
    "            out = layer(x_pos)\n",
    "\n",
    "            inference_probs = probability.compute_probs(out)\n",
    "            goodnesses[:, label] = inference_probs\n",
    "            \n",
    "        _, max_goodness = torch.max(goodnesses, dim = 1)\n",
    "\n",
    "        cor += (max_goodness == y).sum()\n",
    "        tot += x.shape[0]\n",
    "    \n",
    "    return cor, tot\n"
   ]
  },
  {
   "cell_type": "code",
   "execution_count": null,
   "metadata": {},
   "outputs": [],
   "source": [
    "class Standard_Probability_ANN:\n",
    "    def __init__(self, num_inputs, num_neurons, theta=1, scale_factor=6, use_et = True, nu = 0.1, tau = 0.01) -> None:\n",
    "        \"\"\"\n",
    "        Variables de Probabilidad: scale_factor y theta\n",
    "        Variables de Learning: nu, tau\n",
    "        \"\"\"\n",
    "        \n",
    "        self.scale_factor = scale_factor\n",
    "        self.theta = theta\n",
    "        \n",
    "        self.use_et = use_et\n",
    "        \n",
    "        self.nu = nu\n",
    "        self.tau = tau\n",
    "        \n",
    "        self.elasticity_trace = torch.zeros(num_inputs, num_neurons)\n",
    "        \n",
    "        self.trace_history = []\n",
    "        self.neuromodulation_history = []\n",
    "    \n",
    "    def compute_neuromodulation(self, out_trace):\n",
    "        trace_norm = torch.norm(out_trace, dim = 1).pow(2)\n",
    "        self.trace_history.append(trace_norm.mean())\n",
    "        \n",
    "        neuromodulation = torch.sigmoid(self.scale_factor * ( trace_norm - self.theta ) )\n",
    "        self.neuromodulation_history.append(neuromodulation.mean())\n",
    "        \n",
    "        return neuromodulation\n",
    "    \n",
    "    def compute_probs(self, out_trace):\n",
    "        trace_norm = torch.norm(out_trace, dim = 1).pow(2)\n",
    "        \n",
    "        random_i = torch.randint(0, 32, (1,))\n",
    "        #if random_i == 2: print(trace_norm.mean())\n",
    "        return torch.sigmoid(self.scale_factor * ( trace_norm - self.theta ) )\n",
    "    \n",
    "    \n",
    "    def hebbian_update(self, weights, x, out_trace, real_positivity):\n",
    "        \n",
    "        delta_weights = x.squeeze(2).unsqueeze(2) @ out_trace.unsqueeze(1)\n",
    "        \n",
    "        neuron_positivity = self.compute_neuromodulation(out_trace)\n",
    "        \n",
    "        \n",
    "        if self.use_et:\n",
    "            self.elasticity_trace *= (1 - self.tau)\n",
    "            self.elasticity_trace += self.tau * ((1-real_positivity-neuron_positivity).unsqueeze(1).unsqueeze(2) * delta_weights).mean(dim = 0)\n",
    "            weights += self.nu * self.elasticity_trace\n",
    "        else:\n",
    "            weights += self.nu * ((1-real_positivity-neuron_positivity).unsqueeze(1).unsqueeze(2) * delta_weights).mean(dim = 0)\n",
    "\n",
    "        return weights\n"
   ]
  },
  {
   "cell_type": "markdown",
   "metadata": {},
   "source": [
    "### Training of the ANN Network"
   ]
  },
  {
   "cell_type": "code",
   "execution_count": 68,
   "metadata": {},
   "outputs": [
    {
     "name": "stderr",
     "output_type": "stream",
     "text": [
      "  0%|          | 0/1200 [00:00<?, ?it/s]"
     ]
    },
    {
     "name": "stderr",
     "output_type": "stream",
     "text": [
      "100%|██████████| 1200/1200 [00:19<00:00, 63.07it/s]\n",
      "Acc: 9131/9950 (0.92) | [[[0, 0], [0, 0]]] |: : 200it [00:04, 45.55it/s]\n"
     ]
    },
    {
     "name": "stdout",
     "output_type": "stream",
     "text": [
      "Accuracy: 0.9176999926567078\n"
     ]
    },
    {
     "name": "stderr",
     "output_type": "stream",
     "text": [
      "100%|██████████| 1200/1200 [00:19<00:00, 62.83it/s]\n",
      "Acc: 9227/9950 (0.93) | [[[0, 0], [0, 0]]] |: : 200it [00:04, 48.85it/s]\n"
     ]
    },
    {
     "name": "stdout",
     "output_type": "stream",
     "text": [
      "Accuracy: 0.927299976348877\n"
     ]
    },
    {
     "name": "stderr",
     "output_type": "stream",
     "text": [
      "100%|██████████| 1200/1200 [00:20<00:00, 58.16it/s]\n",
      "Acc: 9322/9950 (0.94) | [[[0, 0], [0, 0]]] |: : 200it [00:04, 47.51it/s]\n"
     ]
    },
    {
     "name": "stdout",
     "output_type": "stream",
     "text": [
      "Accuracy: 0.9369000196456909\n"
     ]
    },
    {
     "name": "stderr",
     "output_type": "stream",
     "text": [
      "100%|██████████| 1200/1200 [00:19<00:00, 61.69it/s]\n",
      "Acc: 9340/9950 (0.94) | [[[0, 0], [0, 0]]] |: : 200it [00:04, 45.37it/s]\n"
     ]
    },
    {
     "name": "stdout",
     "output_type": "stream",
     "text": [
      "Accuracy: 0.9386000037193298\n"
     ]
    },
    {
     "name": "stderr",
     "output_type": "stream",
     "text": [
      "100%|██████████| 1200/1200 [00:18<00:00, 64.06it/s]\n",
      "Acc: 9325/9950 (0.94) | [[[0, 0], [0, 0]]] |: : 200it [00:03, 51.59it/s]\n"
     ]
    },
    {
     "name": "stdout",
     "output_type": "stream",
     "text": [
      "Accuracy: 0.9372000098228455\n"
     ]
    },
    {
     "name": "stderr",
     "output_type": "stream",
     "text": [
      "100%|██████████| 1200/1200 [00:18<00:00, 63.85it/s]\n",
      "Acc: 9346/9950 (0.94) | [[[0, 0], [0, 0]]] |: : 200it [00:04, 47.60it/s]\n"
     ]
    },
    {
     "name": "stdout",
     "output_type": "stream",
     "text": [
      "Accuracy: 0.9391000270843506\n"
     ]
    },
    {
     "name": "stderr",
     "output_type": "stream",
     "text": [
      "100%|██████████| 1200/1200 [00:18<00:00, 64.59it/s]\n",
      "Acc: 9397/9950 (0.94) | [[[0, 0], [0, 0]]] |: : 200it [00:04, 45.31it/s]\n"
     ]
    },
    {
     "name": "stdout",
     "output_type": "stream",
     "text": [
      "Accuracy: 0.9445000290870667\n"
     ]
    },
    {
     "name": "stderr",
     "output_type": "stream",
     "text": [
      "100%|██████████| 1200/1200 [00:18<00:00, 65.11it/s]\n",
      "Acc: 9420/9950 (0.95) | [[[0, 0], [0, 0]]] |: : 200it [00:04, 47.30it/s]\n"
     ]
    },
    {
     "name": "stdout",
     "output_type": "stream",
     "text": [
      "Accuracy: 0.9466000199317932\n"
     ]
    },
    {
     "name": "stderr",
     "output_type": "stream",
     "text": [
      "100%|██████████| 1200/1200 [00:18<00:00, 63.91it/s]\n",
      "Acc: 9465/9950 (0.95) | [[[0, 0], [0, 0]]] |: : 200it [00:04, 46.71it/s]\n"
     ]
    },
    {
     "name": "stdout",
     "output_type": "stream",
     "text": [
      "Accuracy: 0.9509999752044678\n"
     ]
    },
    {
     "name": "stderr",
     "output_type": "stream",
     "text": [
      "100%|██████████| 1200/1200 [00:18<00:00, 64.15it/s]\n",
      "Acc: 9441/9950 (0.95) | [[[0, 0], [0, 0]]] |: : 200it [00:04, 47.94it/s]\n"
     ]
    },
    {
     "name": "stdout",
     "output_type": "stream",
     "text": [
      "Accuracy: 0.9487000107765198\n"
     ]
    }
   ],
   "source": [
    "torch.set_grad_enabled(True) \n",
    "\n",
    "layer = ReLU_Layer(batch_size, 28*28 +100, num_neurons)\n",
    "probability = Symmetric_Probability(28*28 + 100, num_neurons, nu=0.1, tau=0.01)\n",
    "optimizer = torch.optim.Adam(layer.parameters(), lr=0.01)\n",
    "\n",
    "labels = torch.bernoulli(torch.ones((10, 100)) * 0.3).long()\n",
    "\n",
    "layer.set_probabilities(probability)\n",
    "\n",
    "batch_size = 50\n",
    "num_steps = 24\n",
    "\n",
    "\n",
    "train_MNIST = torchvision.datasets.MNIST(\n",
    "    './../data/mnist', train=True, download=False, transform=torchvision.transforms.ToTensor()\n",
    ")\n",
    "\n",
    "test_MNIST = torchvision.datasets.MNIST(\n",
    "    './../data/mnist', train=False, download=False, transform=torchvision.transforms.ToTensor()\n",
    ")\n",
    "\n",
    "train_loader = torch.utils.data.DataLoader(train_MNIST, batch_size = batch_size, shuffle = True)\n",
    "test_loader = torch.utils.data.DataLoader(test_MNIST, batch_size = batch_size, shuffle = False)\n",
    "\n",
    "for i in range(10):\n",
    "    train_network(layer, probability, optimizer, labels)\n",
    "    cor, tot = test(layer, probability, labels)\n",
    "    print(f\"Accuracy: {cor / tot}\")\n",
    "    \n",
    "# Save model weights\n",
    "torch.save(layer.state_dict(), f\"results/models/model_relu_sym.pt\")\n",
    "\n",
    "# Save labels\n",
    "torch.save(labels, f\"results/models/labels_relu_sym.pt\")\n",
    "\n"
   ]
  },
  {
   "cell_type": "code",
   "execution_count": 70,
   "metadata": {},
   "outputs": [
    {
     "name": "stderr",
     "output_type": "stream",
     "text": [
      "  0%|          | 0/1200 [00:00<?, ?it/s]"
     ]
    },
    {
     "name": "stderr",
     "output_type": "stream",
     "text": [
      "100%|██████████| 1200/1200 [00:16<00:00, 71.63it/s]\n",
      "Acc: 8206/9950 (0.82) | [[[0, 0], [0, 0]]] |: : 200it [00:03, 57.18it/s]\n"
     ]
    },
    {
     "name": "stdout",
     "output_type": "stream",
     "text": [
      "Accuracy: 0.8248000144958496\n"
     ]
    },
    {
     "name": "stderr",
     "output_type": "stream",
     "text": [
      "100%|██████████| 1200/1200 [00:16<00:00, 71.63it/s]\n",
      "Acc: 8112/9950 (0.82) | [[[0, 0], [0, 0]]] |: : 200it [00:03, 56.96it/s]\n"
     ]
    },
    {
     "name": "stdout",
     "output_type": "stream",
     "text": [
      "Accuracy: 0.8154000043869019\n"
     ]
    },
    {
     "name": "stderr",
     "output_type": "stream",
     "text": [
      "100%|██████████| 1200/1200 [00:16<00:00, 71.81it/s]\n",
      "Acc: 8797/9950 (0.88) | [[[0, 0], [0, 0]]] |: : 200it [00:03, 57.00it/s]\n"
     ]
    },
    {
     "name": "stdout",
     "output_type": "stream",
     "text": [
      "Accuracy: 0.8840000033378601\n"
     ]
    },
    {
     "name": "stderr",
     "output_type": "stream",
     "text": [
      "100%|██████████| 1200/1200 [00:16<00:00, 71.21it/s]\n",
      "Acc: 8931/9950 (0.90) | [[[0, 0], [0, 0]]] |: : 200it [00:03, 56.02it/s]\n"
     ]
    },
    {
     "name": "stdout",
     "output_type": "stream",
     "text": [
      "Accuracy: 0.8974000215530396\n"
     ]
    },
    {
     "name": "stderr",
     "output_type": "stream",
     "text": [
      "100%|██████████| 1200/1200 [00:17<00:00, 68.11it/s]\n",
      "Acc: 8788/9950 (0.88) | [[[0, 0], [0, 0]]] |: : 200it [00:03, 55.10it/s]\n"
     ]
    },
    {
     "name": "stdout",
     "output_type": "stream",
     "text": [
      "Accuracy: 0.8830000162124634\n"
     ]
    },
    {
     "name": "stderr",
     "output_type": "stream",
     "text": [
      "100%|██████████| 1200/1200 [00:17<00:00, 68.82it/s]\n",
      "Acc: 8818/9950 (0.89) | [[[0, 0], [0, 0]]] |: : 200it [00:03, 55.14it/s]\n"
     ]
    },
    {
     "name": "stdout",
     "output_type": "stream",
     "text": [
      "Accuracy: 0.8859000205993652\n"
     ]
    },
    {
     "name": "stderr",
     "output_type": "stream",
     "text": [
      "100%|██████████| 1200/1200 [00:18<00:00, 63.38it/s]\n",
      "Acc: 8461/9950 (0.85) | [[[0, 0], [0, 0]]] |: : 200it [00:03, 51.84it/s]\n"
     ]
    },
    {
     "name": "stdout",
     "output_type": "stream",
     "text": [
      "Accuracy: 0.8501999974250793\n"
     ]
    },
    {
     "name": "stderr",
     "output_type": "stream",
     "text": [
      "100%|██████████| 1200/1200 [00:18<00:00, 64.02it/s]\n",
      "Acc: 8892/9950 (0.89) | [[[0, 0], [0, 0]]] |: : 200it [00:03, 53.10it/s]\n"
     ]
    },
    {
     "name": "stdout",
     "output_type": "stream",
     "text": [
      "Accuracy: 0.8931999802589417\n"
     ]
    },
    {
     "name": "stderr",
     "output_type": "stream",
     "text": [
      "100%|██████████| 1200/1200 [00:18<00:00, 65.07it/s]\n",
      "Acc: 8717/9950 (0.88) | [[[0, 0], [0, 0]]] |: : 200it [00:03, 53.79it/s]\n"
     ]
    },
    {
     "name": "stdout",
     "output_type": "stream",
     "text": [
      "Accuracy: 0.8755000233650208\n"
     ]
    },
    {
     "name": "stderr",
     "output_type": "stream",
     "text": [
      "100%|██████████| 1200/1200 [00:19<00:00, 62.73it/s]\n",
      "Acc: 8855/9950 (0.89) | [[[0, 0], [0, 0]]] |: : 200it [00:04, 49.62it/s]"
     ]
    },
    {
     "name": "stdout",
     "output_type": "stream",
     "text": [
      "Accuracy: 0.8896999955177307\n"
     ]
    },
    {
     "name": "stderr",
     "output_type": "stream",
     "text": [
      "\n"
     ]
    }
   ],
   "source": [
    "layer = ReLU_Layer(batch_size, 28*28 +100, num_neurons)\n",
    "probability = Standard_Probability_ANN(28*28 + 100, num_neurons, theta=3.5,scale_factor=1)\n",
    "optimizer = torch.optim.Adam(layer.parameters(), lr=0.01)\n",
    "\n",
    "layer.set_probabilities(probability)\n",
    "\n",
    "batch_size = 50\n",
    "num_steps = 24\n",
    "\n",
    "labels = torch.bernoulli(torch.ones((10, 100)) * 0.3).long()\n",
    "\n",
    "train_MNIST = torchvision.datasets.MNIST(\n",
    "    './../data/mnist', train=True, download=False, transform=torchvision.transforms.ToTensor()\n",
    ")\n",
    "\n",
    "test_MNIST = torchvision.datasets.MNIST(\n",
    "    './../data/mnist', train=False, download=False, transform=torchvision.transforms.ToTensor()\n",
    ")\n",
    "\n",
    "train_loader = torch.utils.data.DataLoader(train_MNIST, batch_size = batch_size, shuffle = True)\n",
    "test_loader = torch.utils.data.DataLoader(test_MNIST, batch_size = batch_size, shuffle = False)\n",
    "\n",
    "for i in range(10):\n",
    "    train_network(layer, probability, optimizer, labels)\n",
    "    cor, tot = test(layer, probability, labels)\n",
    "    print(f\"Accuracy: {cor / tot}\")\n",
    "    \n",
    "# Save model weights\n",
    "torch.save(layer.state_dict(), f\"results/models/model_relu_standard.pt\")\n",
    "# Save the ann labels\n",
    "torch.save(labels, f\"results/models/labels_relu_standard.pt\")"
   ]
  },
  {
   "cell_type": "markdown",
   "metadata": {},
   "source": [
    "### Extraction of ANN Latents"
   ]
  },
  {
   "cell_type": "code",
   "execution_count": 26,
   "metadata": {},
   "outputs": [],
   "source": [
    "train_MNIST = torchvision.datasets.MNIST(\n",
    "    './../data/mnist', train=True, download=False, transform=torchvision.transforms.ToTensor()\n",
    ")\n",
    "\n",
    "test_MNIST = torchvision.datasets.MNIST(\n",
    "    './../data/mnist', train=False, download=False, transform=torchvision.transforms.ToTensor()\n",
    ")\n",
    "train_loader = torch.utils.data.DataLoader(train_MNIST, batch_size = 50, shuffle = True)\n",
    "test_loader = torch.utils.data.DataLoader(test_MNIST, batch_size = 50, shuffle = False)"
   ]
  },
  {
   "cell_type": "code",
   "execution_count": 38,
   "metadata": {},
   "outputs": [
    {
     "name": "stderr",
     "output_type": "stream",
     "text": [
      "Acc: 8855/9950 (0.89) | [[[0, 0], [0, 0]]] |: : 200it [00:03, 52.31it/s]\n"
     ]
    },
    {
     "name": "stdout",
     "output_type": "stream",
     "text": [
      "(tensor(8897), 10000)\n"
     ]
    },
    {
     "name": "stderr",
     "output_type": "stream",
     "text": [
      "100%|██████████| 200/200 [00:02<00:00, 92.63it/s]\n"
     ]
    }
   ],
   "source": [
    "layer_nn_standard = ReLU_Layer(batch_size, 28*28 +100, num_neurons)\n",
    "layer_nn_standard.load_state_dict(torch.load(\"results/models/model_relu_standard.pt\"))\n",
    "\n",
    "batch_size = 50\n",
    "\n",
    "probability_standard = Standard_Probability(28*28 + 100, num_neurons, theta=3.5,scale_factor=1)\n",
    "layer_nn_standard.set_probabilities(probability_standard)\n",
    "label_class_standard = torch.zeros(10000)\n",
    "\n",
    "labels = torch.load(\"results/models/labels_relu_standard.pt\")\n",
    "\n",
    "label_class_sym = torch.zeros(10000)\n",
    "latents_standard = torch.zeros(10000, num_neurons)\n",
    "\n",
    "print(test(layer_nn_standard, probability_standard, labels))\n",
    "\n",
    "pp = 0\n",
    "for x, y in tqdm(test_loader):\n",
    "    x_pos = torch.cat((x.reshape(x.shape[0],784), labels[y].long().reshape(x.shape[0],100)), dim = 1)\n",
    "    out = layer_nn_standard(x_pos)\n",
    "    latents_standard[pp * batch_size : (pp+1) * batch_size, :] = out.detach().clone()\n",
    "    label_class_sym[pp * batch_size : (pp+1) * batch_size] = y\n",
    "    pp+=1\n",
    "\n",
    "torch.save(latents_standard, \"results/latents/latents_standard_relu.pt\")\n",
    "torch.save(label_class_sym, \"results/latents/label_class_standard_relu.pt\")"
   ]
  },
  {
   "cell_type": "code",
   "execution_count": 39,
   "metadata": {},
   "outputs": [
    {
     "name": "stderr",
     "output_type": "stream",
     "text": [
      "Acc: 9441/9950 (0.95) | [[[0, 0], [0, 0]]] |: : 200it [00:03, 51.27it/s]\n"
     ]
    },
    {
     "name": "stdout",
     "output_type": "stream",
     "text": [
      "(tensor(9487), 10000)\n"
     ]
    },
    {
     "name": "stderr",
     "output_type": "stream",
     "text": [
      "100%|██████████| 200/200 [00:02<00:00, 72.25it/s]\n"
     ]
    }
   ],
   "source": [
    "layer_nn_sym = ReLU_Layer(batch_size, 28*28 +100, num_neurons)\n",
    "layer_nn_sym.load_state_dict(torch.load(\"results/models/model_relu_sym.pt\"))\n",
    "\n",
    "probability_sym = Symmetric_Probability(28*28 + 100, num_neurons, nu=0.1, tau=0.01)\n",
    "\n",
    "layer_nn_sym.set_probabilities(probability_sym)\n",
    "\n",
    "labels = torch.load(\"results/models/labels_relu_sym.pt\")\n",
    "\n",
    "latents_sym = torch.zeros(10000, num_neurons)\n",
    "label_class_sym = torch.zeros(10000)\n",
    " \n",
    "print(test(layer_nn_sym, probability_sym, labels))\n",
    "\n",
    "pp = 0\n",
    "for x, y in tqdm(test_loader):\n",
    "    x_pos = torch.cat((x.reshape(x.shape[0],784), labels[y].long().reshape(x.shape[0],100)), dim = 1)\n",
    "    out = layer_nn_sym(x_pos)\n",
    "    latents_sym[pp * batch_size : (pp+1) * batch_size, :] = out.detach().clone()\n",
    "    label_class_sym[pp * batch_size : (pp+1) * batch_size] = y\n",
    "    pp+=1\n",
    "    \n",
    "torch.save(latents_sym, \"latents_sym_relu.pt\")\n",
    "torch.save(label_class_sym, \"label_class_sym_relu.pt\")"
   ]
  },
  {
   "cell_type": "markdown",
   "metadata": {},
   "source": [
    "## RQ2: Plot of Latents"
   ]
  },
  {
   "cell_type": "code",
   "execution_count": null,
   "metadata": {},
   "outputs": [],
   "source": [
    "from matplotlib import pyplot as plt\n",
    "\n",
    "import torch\n",
    "\n",
    "from matplotlib import rc\n",
    "import matplotlib.pylab as plt\n"
   ]
  },
  {
   "cell_type": "code",
   "execution_count": null,
   "metadata": {},
   "outputs": [],
   "source": [
    "latents_standard = torch.load(\"results/latents/latents_standard_relu.pt\")\n",
    "labels_standard = torch.load(\"results/latents/label_class_standard_relu.pt\")\n",
    "latents_sym = torch.load(\"results/latents/latents_sym_relu.pt\")\n",
    "labels_sym = torch.load(\"results/latents/label_class_sym_relu.pt\")\n",
    "\n",
    "all_latents = torch.load(\"results/latents/latents_agg.pt\")\n",
    "all_labels = torch.load(\"results/latents/labels_nn.pt\")"
   ]
  },
  {
   "cell_type": "code",
   "execution_count": 1,
   "metadata": {},
   "outputs": [
    {
     "data": {
      "image/png": "[encoded data removed]",
      "text/plain": [
       "<Figure size 1400x650 with 6 Axes>"
      ]
     },
     "metadata": {},
     "output_type": "display_data"
    }
   ],
   "source": [
    "total = 90\n",
    "limits = 25\n",
    "\n",
    "fig, axs = plt.subplots(2, 3, figsize = (14, 6.5))\n",
    "\n",
    "# We employ SQRTs to enhance visibility of the spikes.\n",
    "# Hoyer indices are included based on the code below this cell\n",
    "\n",
    "axs[0,0].imshow(latents_standard[:total, limits:200-limits].sqrt().sqrt(), cmap=\"binary\")\n",
    "axs[0,0].set_title(\"Analog $\\\\text{P}_{\\\\sigma}$\" , fontsize = 18)\n",
    "axs[0,0].set_xlabel(\"Hoyer Index - 0.9994\", fontsize = 14)\n",
    "axs[0,0].set_xticks([])\n",
    "axs[0,0].set_yticks([])\n",
    "\n",
    "axs[0,1].imshow(all_latents[2][:total,limits:200-limits].sqrt().sqrt(), cmap=\"binary\")\n",
    "axs[0,1].set_title(\"Batched $\\\\text{P}_{\\\\sigma}$\", fontsize = 18) \n",
    "axs[0,1].set_xlabel(\"Hoyer Index - 0.9650\", fontsize = 14)\n",
    "axs[0,1].set_xticks([])\n",
    "axs[0,1].set_yticks([])\n",
    "\n",
    "axs[0,2].imshow(all_latents[4][:total,limits:200-limits].sqrt().sqrt(), cmap=\"binary\")\n",
    "axs[0,2].set_title(\"Online $\\\\text{P}_{\\\\sigma}$\", fontsize = 18) \n",
    "axs[0,2].set_xlabel(\"Hoyer Index - 0.9664\", fontsize = 14)\n",
    "axs[0,2].set_xticks([])\n",
    "axs[0,2].set_yticks([])\n",
    "\n",
    "\n",
    "\n",
    "axs[1,0].imshow(latents_sym[:total,limits:200-limits].sqrt().sqrt(), cmap=\"binary\")\n",
    "axs[1,0].set_title(\"Analog $\\\\text{P}_{\\\\text{Sym}}$\", fontsize = 18)\n",
    "axs[1,0].set_xlabel(\"Hoyer Index - 0.9789\", fontsize = 14)\n",
    "axs[1,0].set_xticks([])\n",
    "axs[1,0].set_yticks([])\n",
    "\n",
    "axs[1,1].imshow(all_latents[1][:total,limits:200-limits].sqrt().sqrt(), cmap=\"binary\")\n",
    "axs[1,1].set_title(\"Batched $\\\\text{P}_{\\\\text{Sym}}$\", fontsize = 18) \n",
    "axs[1,1].set_xlabel(\"Hoyer Index - 0.9781\", fontsize = 14)\n",
    "axs[1,1].set_xticks([])\n",
    "axs[1,1].set_yticks([])\n",
    "\n",
    "\n",
    "axs[1,2].imshow(all_latents[3][:total,limits:200-limits].sqrt().sqrt(), cmap=\"binary\")\n",
    "axs[1,2].set_title(\"Online $\\\\text{P}_{\\\\text{Sym}}$\", fontsize = 18) \n",
    "axs[1,2].set_xlabel(\"Hoyer Index - 0.9641\", fontsize = 14)\n",
    "axs[1,2].set_xticks([])\n",
    "axs[1,2].set_yticks([])\n",
    "\n",
    "# Save to pdf\n",
    "plt.savefig(\"imgs/latents_plots_fainal.pdf\", bbox_inches = 'tight')"
   ]
  },
  {
   "cell_type": "code",
   "execution_count": 44,
   "metadata": {},
   "outputs": [
    {
     "name": "stdout",
     "output_type": "stream",
     "text": [
      "Hoyer index of analog sigma 0.999411940574646\n",
      "Hoyer index of batched sigma 0.9650235176086426\n",
      "Hoyer index of online sigma 0.9664104580879211\n",
      "Hoyer index of analog sym 0.9789406061172485\n",
      "Hoyer index of batched sym 0.9781830310821533\n",
      "Hoyer index of online sym 0.9641135931015015\n"
     ]
    }
   ],
   "source": [
    "import numpy as np\n",
    "\n",
    "def hoyer_index(latents):\n",
    "    num_samples, num_neurons = latents.shape\n",
    "    l1_norm = torch.norm(latents, p=1, dim = 1)\n",
    "    l2_norm = torch.norm(latents, p=2, dim = 1)\n",
    "    \n",
    "    return ((np.sqrt(200)-((l1_norm+0.001) / (l2_norm+0.001)))/(np.sqrt(200)-1)).mean()\n",
    "\n",
    "print(f\"Hoyer index of analog sigma {hoyer_index(latents_standard)}\")\n",
    "print(f\"Hoyer index of batched sigma {hoyer_index(all_latents[2])}\")\n",
    "print(f\"Hoyer index of online sigma {hoyer_index(all_latents[4])}\")\n",
    "\n",
    "print(f\"Hoyer index of analog sym {hoyer_index(latents_sym)}\")\n",
    "print(f\"Hoyer index of batched sym {hoyer_index(all_latents[1])}\")\n",
    "print(f\"Hoyer index of online sym {hoyer_index(all_latents[3])}\")"
   ]
  },
  {
   "cell_type": "markdown",
   "metadata": {},
   "source": [
    "### Separability Indices "
   ]
  },
  {
   "cell_type": "code",
   "execution_count": 76,
   "metadata": {},
   "outputs": [],
   "source": [
    "import math\n",
    "from scipy.spatial.distance import cdist\n",
    "from tqdm import tqdm\n",
    "\n",
    "def compute_separability(latent, labels, kfactor = 5, batch_size = 32, limit = 100000):\n",
    "    \"\"\" Compute the separability of the latents by using the separability index\"\"\"\n",
    "    \n",
    "    latents_pre, labels_pre, positiveness_pre = latent, _, labels\n",
    "    \n",
    "    latents, labels, positiveness = latents_pre, _, positiveness_pre\n",
    "    \n",
    "    total_dist = 0\n",
    "\n",
    "    for j in tqdm(range(latent.shape[0])):\n",
    "        if j > limit: break\n",
    "        # Get closer indexes\n",
    "        indexes = np.argsort(cdist(latents[j].reshape(1,-1), latents).reshape(-1))[1:1+kfactor]\n",
    "        \n",
    "        # Check with of possitiveness[index] are the same as positiveness[j]\n",
    "        equals_indexes = (positiveness[j] == positiveness[indexes])\n",
    "        total_dist += equals_indexes.sum()\n",
    "        \n",
    "    return total_dist / (kfactor * latents.shape[0])"
   ]
  },
  {
   "cell_type": "code",
   "execution_count": 78,
   "metadata": {},
   "outputs": [
    {
     "name": "stderr",
     "output_type": "stream",
     "text": [
      "100%|██████████| 10000/10000 [01:18<00:00, 126.91it/s]\n"
     ]
    },
    {
     "name": "stdout",
     "output_type": "stream",
     "text": [
      "Separability of sigma analog 0.9556000232696533\n"
     ]
    },
    {
     "name": "stderr",
     "output_type": "stream",
     "text": [
      "100%|██████████| 10000/10000 [01:11<00:00, 140.24it/s]\n"
     ]
    },
    {
     "name": "stdout",
     "output_type": "stream",
     "text": [
      "Separability of sigma batched 0.996940016746521\n"
     ]
    },
    {
     "name": "stderr",
     "output_type": "stream",
     "text": [
      "100%|██████████| 10000/10000 [01:07<00:00, 148.18it/s]\n"
     ]
    },
    {
     "name": "stdout",
     "output_type": "stream",
     "text": [
      "Separability of sigma online 0.9973999857902527\n"
     ]
    },
    {
     "name": "stderr",
     "output_type": "stream",
     "text": [
      "100%|██████████| 10000/10000 [01:06<00:00, 149.93it/s]\n"
     ]
    },
    {
     "name": "stdout",
     "output_type": "stream",
     "text": [
      "Separability of sym analog 0.986519992351532\n"
     ]
    },
    {
     "name": "stderr",
     "output_type": "stream",
     "text": [
      "100%|██████████| 10000/10000 [01:06<00:00, 149.54it/s]\n"
     ]
    },
    {
     "name": "stdout",
     "output_type": "stream",
     "text": [
      "Separability of sym batched 0.9649800062179565\n"
     ]
    },
    {
     "name": "stderr",
     "output_type": "stream",
     "text": [
      "100%|██████████| 10000/10000 [01:07<00:00, 148.07it/s]"
     ]
    },
    {
     "name": "stdout",
     "output_type": "stream",
     "text": [
      "Separability of sym online 0.9822199940681458\n"
     ]
    },
    {
     "name": "stderr",
     "output_type": "stream",
     "text": [
      "\n"
     ]
    }
   ],
   "source": [
    "print(f\"Separability of sigma analog {compute_separability(latents_standard, labels_standard)}\")\n",
    "print(f\"Separability of sigma batched {compute_separability(all_latents[2], all_labels[2])}\")\n",
    "print(f\"Separability of sigma online {compute_separability(all_latents[4], all_labels[4])}\")\n",
    "\n",
    "print(f\"Separability of sym analog {compute_separability(latents_sym, labels_sym)}\")\n",
    "print(f\"Separability of sym batched {compute_separability(all_latents[1], all_labels[1])}\")\n",
    "print(f\"Separability of sym online {compute_separability(all_latents[3], all_labels[3])}\")"
   ]
  },
  {
   "cell_type": "code",
   "execution_count": 3,
   "metadata": {},
   "outputs": [
    {
     "data": {
      "image/png": "[encoded data removed]",
      "text/plain": [
       "<Figure size 1400x800 with 6 Axes>"
      ]
     },
     "metadata": {},
     "output_type": "display_data"
    }
   ],
   "source": [
    "# Compute the TSNE of each previous latent and plot it\n",
    "from sklearn.manifold import TSNE\n",
    "import torch\n",
    "from matplotlib import pyplot as plt\n",
    "\n",
    "tsne = TSNE(n_components=2, random_state=0)\n",
    "total = 1500\n",
    "\n",
    "# Open all Latent Spaces \n",
    "latents_standard = torch.load(\"results/latents/latents_standard_relu.pt\")\n",
    "labels_standard = torch.load(\"results/latents/label_class_standard_relu.pt\")\n",
    "latents_sym = torch.load(\"results/latents/latents_sym_relu.pt\")\n",
    "labels_sym = torch.load(\"results/latents/label_class_sym_relu.pt\")\n",
    "\n",
    "all_latents = torch.load(\"results/latents/latents_agg.pt\")\n",
    "all_labels = torch.load(\"results/latents/labels_nn.pt\")\n",
    "\n",
    "fig, axs = plt.subplots(2, 3, figsize = (14, 8))\n",
    "fig.subplots_adjust(hspace=0.3, wspace=0.12)\n",
    "\n",
    "coords = tsne.fit_transform(latents_standard[:total,])\n",
    "\n",
    "axs[0,0].scatter(coords[:,0], coords[:,1], s=1, c = labels_standard[:total], cmap = \"tab10\")\n",
    "axs[0,0].set_title(\"Analog $\\\\text{P}_{\\\\sigma}$\", fontsize = 18)\n",
    "axs[0,0].set_xlabel(\"Separability Index - 0.9556\", fontsize = 14)\n",
    "\n",
    "# remove ticks\n",
    "axs[0,0].set_xticks([])\n",
    "axs[0,0].set_yticks([])\n",
    "\n",
    "\n",
    "\n",
    "coords = tsne.fit_transform(all_latents[2][:total,])\n",
    "axs[0,1].scatter(coords[:,0], coords[:,1], s=1, c = all_labels[2][:total], cmap = \"tab10\")\n",
    "axs[0,1].set_title(\"Batched $\\\\text{P}_{\\\\sigma}$\", fontsize = 18) \n",
    "axs[0,1].set_xlabel(\"Separability Index - 0.9969\", fontsize = 14)\n",
    "\n",
    "\n",
    "# remove ticks\n",
    "axs[0,1].set_xticks([])\n",
    "axs[0,1].set_yticks([])\n",
    "\n",
    "coords = tsne.fit_transform(all_latents[4][:total,])\n",
    "axs[0,2].scatter(coords[:,0], coords[:,1], s=1, c = all_labels[4][:total], cmap = \"tab10\")\n",
    "axs[0,2].set_title(\"Online $\\\\text{P}_{\\\\sigma}$\", fontsize = 18) \n",
    "axs[0,2].set_xlabel(\"Separability Index - 0.9973\", fontsize = 14)\n",
    "\n",
    "# remove ticks\n",
    "axs[0,2].set_xticks([])\n",
    "axs[0,2].set_yticks([])\n",
    "\n",
    "\n",
    "\n",
    "coords = tsne.fit_transform(latents_sym[:total,])\n",
    "axs[1,0].scatter(coords[:,0], coords[:,1], s=1, c = labels_sym[:total], cmap = \"tab10\")\n",
    "axs[1,0].set_title(\"Analog $\\\\text{P}_{\\\\text{Sym}}$\", fontsize = 18)\n",
    "axs[1,0].set_xlabel(\"Separability Index - 0.9865\", fontsize = 14)\n",
    "\n",
    "# remove ticks\n",
    "axs[1,0].set_xticks([])\n",
    "axs[1,0].set_yticks([])\n",
    "\n",
    "coords = tsne.fit_transform(all_latents[1][:total,])\n",
    "axs[1,1].scatter(coords[:,0], coords[:,1], s=1, c = all_labels[1][:total], cmap = \"tab10\")\n",
    "axs[1,1].set_title(\"Batched $\\\\text{P}_{\\\\text{Sym}}$\", fontsize = 18) \n",
    "axs[1,1].set_xlabel(\"Separability Index - 0.9649\", fontsize = 14)\n",
    "\n",
    "# remove ticks\n",
    "axs[1,1].set_xticks([])\n",
    "axs[1,1].set_yticks([])\n",
    "\n",
    "\n",
    "coords = tsne.fit_transform(all_latents[3][:total,])\n",
    "axs[1,2].scatter(coords[:,0], coords[:,1], s=1, c = all_labels[3][:total], cmap = \"tab10\")\n",
    "axs[1,2].set_title(\"Online $\\\\text{P}_{\\\\text{Sym}}$\", fontsize = 18) \n",
    "axs[1,2].set_xlabel(\"Separability Index - 0.9822\", fontsize = 14)\n",
    "\n",
    "# remove ticks\n",
    "axs[1,2].set_xticks([])\n",
    "axs[1,2].set_yticks([])\n",
    "\n",
    "# Save to pdf\n",
    "plt.savefig(\"imgs/latents_tsne_fainal.pdf\", bbox_inches = 'tight')"
   ]
  }
 ],
 "metadata": {
  "kernelspec": {
   "display_name": "lava",
   "language": "python",
   "name": "python3"
  },
  "language_info": {
   "codemirror_mode": {
    "name": "ipython",
    "version": 3
   },
   "file_extension": ".py",
   "mimetype": "text/x-python",
   "name": "python",
   "nbconvert_exporter": "python",
   "pygments_lexer": "ipython3",
   "version": "3.10.10"
  }
 },
 "nbformat": 4,
 "nbformat_minor": 2
}
